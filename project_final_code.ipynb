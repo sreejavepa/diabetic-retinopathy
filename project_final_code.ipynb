{
 "cells": [
  {
   "cell_type": "code",
   "execution_count": 1,
   "id": "4e89ac8c",
   "metadata": {},
   "outputs": [
    {
     "name": "stdout",
     "output_type": "stream",
     "text": [
      "Requirement already satisfied: imutils in c:\\users\\prana\\anaconda3\\lib\\site-packages (0.5.4)\n"
     ]
    },
    {
     "name": "stderr",
     "output_type": "stream",
     "text": [
      "WARNING: Ignoring invalid distribution -rotobuf (c:\\users\\prana\\anaconda3\\lib\\site-packages)\n",
      "WARNING: Ignoring invalid distribution -rotobuf (c:\\users\\prana\\anaconda3\\lib\\site-packages)\n",
      "WARNING: Ignoring invalid distribution -rotobuf (c:\\users\\prana\\anaconda3\\lib\\site-packages)\n",
      "WARNING: Ignoring invalid distribution -rotobuf (c:\\users\\prana\\anaconda3\\lib\\site-packages)\n",
      "WARNING: Ignoring invalid distribution -rotobuf (c:\\users\\prana\\anaconda3\\lib\\site-packages)\n",
      "WARNING: Ignoring invalid distribution -rotobuf (c:\\users\\prana\\anaconda3\\lib\\site-packages)\n"
     ]
    },
    {
     "name": "stdout",
     "output_type": "stream",
     "text": [
      "Requirement already satisfied: efficientnet in c:\\users\\prana\\anaconda3\\lib\\site-packages (1.1.1)\n",
      "Requirement already satisfied: scikit-image in c:\\users\\prana\\anaconda3\\lib\\site-packages (from efficientnet) (0.19.3)\n",
      "Requirement already satisfied: keras-applications<=1.0.8,>=1.0.7 in c:\\users\\prana\\anaconda3\\lib\\site-packages (from efficientnet) (1.0.8)\n",
      "Requirement already satisfied: h5py in c:\\users\\prana\\anaconda3\\lib\\site-packages (from keras-applications<=1.0.8,>=1.0.7->efficientnet) (3.7.0)\n",
      "Requirement already satisfied: numpy>=1.9.1 in c:\\users\\prana\\anaconda3\\lib\\site-packages (from keras-applications<=1.0.8,>=1.0.7->efficientnet) (1.23.5)\n",
      "Requirement already satisfied: imageio>=2.4.1 in c:\\users\\prana\\anaconda3\\lib\\site-packages (from scikit-image->efficientnet) (2.26.0)\n",
      "Requirement already satisfied: networkx>=2.2 in c:\\users\\prana\\anaconda3\\lib\\site-packages (from scikit-image->efficientnet) (2.8.4)\n",
      "Requirement already satisfied: packaging>=20.0 in c:\\users\\prana\\anaconda3\\lib\\site-packages (from scikit-image->efficientnet) (22.0)\n",
      "Requirement already satisfied: scipy>=1.4.1 in c:\\users\\prana\\anaconda3\\lib\\site-packages (from scikit-image->efficientnet) (1.10.0)\n",
      "Requirement already satisfied: tifffile>=2019.7.26 in c:\\users\\prana\\anaconda3\\lib\\site-packages (from scikit-image->efficientnet) (2021.7.2)\n",
      "Requirement already satisfied: PyWavelets>=1.1.1 in c:\\users\\prana\\anaconda3\\lib\\site-packages (from scikit-image->efficientnet) (1.4.1)\n",
      "Requirement already satisfied: pillow!=7.1.0,!=7.1.1,!=8.3.0,>=6.1.0 in c:\\users\\prana\\anaconda3\\lib\\site-packages (from scikit-image->efficientnet) (9.4.0)\n"
     ]
    },
    {
     "name": "stderr",
     "output_type": "stream",
     "text": [
      "WARNING: Ignoring invalid distribution -rotobuf (c:\\users\\prana\\anaconda3\\lib\\site-packages)\n",
      "WARNING: Ignoring invalid distribution -rotobuf (c:\\users\\prana\\anaconda3\\lib\\site-packages)\n",
      "WARNING: Ignoring invalid distribution -rotobuf (c:\\users\\prana\\anaconda3\\lib\\site-packages)\n",
      "WARNING: Ignoring invalid distribution -rotobuf (c:\\users\\prana\\anaconda3\\lib\\site-packages)\n",
      "WARNING: Ignoring invalid distribution -rotobuf (c:\\users\\prana\\anaconda3\\lib\\site-packages)\n",
      "WARNING: Ignoring invalid distribution -rotobuf (c:\\users\\prana\\anaconda3\\lib\\site-packages)\n"
     ]
    }
   ],
   "source": [
    "!pip install imutils\n",
    "!pip install efficientnet"
   ]
  },
  {
   "cell_type": "code",
   "execution_count": 2,
   "id": "c178d758",
   "metadata": {},
   "outputs": [
    {
     "name": "stdout",
     "output_type": "stream",
     "text": [
      "WARNING:tensorflow:From C:\\Users\\prana\\anaconda3\\lib\\site-packages\\keras\\src\\losses.py:2976: The name tf.losses.sparse_softmax_cross_entropy is deprecated. Please use tf.compat.v1.losses.sparse_softmax_cross_entropy instead.\n",
      "\n"
     ]
    }
   ],
   "source": [
    "import pandas as pd\n",
    "import numpy as np \n",
    "from tqdm import tqdm\n",
    "import cv2\n",
    "import os\n",
    "import shutil\n",
    "import itertools\n",
    "import imutils\n",
    "import matplotlib.pyplot as plt\n",
    "from sklearn.preprocessing import LabelBinarizer\n",
    "from sklearn.model_selection import train_test_split\n",
    "from sklearn.metrics import accuracy_score, confusion_matrix\n",
    "\n",
    "import matplotlib as plt\n",
    "from tensorflow.keras.preprocessing.image import ImageDataGenerator\n",
    "from efficientnet.tfkeras import EfficientNetB0\n",
    "from tensorflow.keras import layers\n",
    "from tensorflow.keras.models import Model, Sequential\n",
    "from tensorflow.keras.optimizers import Adam, RMSprop\n",
    "from tensorflow.keras.callbacks import EarlyStopping\n",
    "from tensorflow.keras.preprocessing import image\n",
    "from keras.layers import Dense, Dropout, Flatten, BatchNormalization\n",
    "import warnings\n",
    "warnings.filterwarnings('ignore')"
   ]
  },
  {
   "cell_type": "code",
   "execution_count": 22,
   "id": "8e0b5bee",
   "metadata": {},
   "outputs": [],
   "source": [
    "from pathlib import Path\n",
    "\n",
    "# Specify the directory containing the images\n",
    "img_dir = 'C:\\\\Users\\\\prana\\\\Downloads\\\\gaussian_filtered_images'\n",
    "\n",
    "# Convert the directory path to a Path object\n",
    "image_dir = Path(img_dir)\n",
    "\n",
    "# Use the Path object's glob method to search for all .png files in the directory and its subdirectories\n",
    "filepaths = list(image_dir.glob('**/*.png'))\n",
    "\n",
    "# Initialize a list to store labels\n",
    "labels = []\n",
    "\n",
    "# Iterate through the list of file paths\n",
    "for filepath in filepaths:\n",
    "    # Extract the label from the file path\n",
    "    # The label is the name of the parent directory of the image file\n",
    "    label = filepath.parent.name\n",
    "    # Append the label to the labels list\n",
    "    labels.append(label)\n",
    "\n",
    "\n"
   ]
  },
  {
   "cell_type": "code",
   "execution_count": 23,
   "id": "7f533704",
   "metadata": {},
   "outputs": [
    {
     "data": {
      "text/plain": [
       "No_DR             1805\n",
       "Moderate           999\n",
       "Mild               370\n",
       "Proliferate_DR     295\n",
       "Severe             193\n",
       "Name: Label, dtype: int64"
      ]
     },
     "execution_count": 23,
     "metadata": {},
     "output_type": "execute_result"
    }
   ],
   "source": [
    "filepaths = pd.Series(filepaths, name='Filepath').astype(str)\n",
    "labels = pd.Series(labels, name='Label')\n",
    "\n",
    "\n",
    "df = pd.concat([filepaths, labels], axis=1)\n",
    "\n",
    "df = df.sample(frac=1).reset_index(drop = True)\n",
    "\n",
    "df.head(4)\n",
    "df['Label'].value_counts()"
   ]
  },
  {
   "cell_type": "code",
   "execution_count": 24,
   "id": "95ad329e",
   "metadata": {},
   "outputs": [
    {
     "data": {
      "application/vnd.plotly.v1+json": {
       "config": {
        "plotlyServerURL": "https://plot.ly"
       },
       "data": [
        {
         "alignmentgroup": "True",
         "hovertemplate": "Severity=%{y}<br>Count=%{x}<extra></extra>",
         "legendgroup": "No_DR",
         "marker": {
          "color": "#636efa",
          "pattern": {
           "shape": ""
          }
         },
         "name": "No_DR",
         "offsetgroup": "No_DR",
         "orientation": "h",
         "showlegend": true,
         "textposition": "auto",
         "type": "bar",
         "x": [
          1805
         ],
         "xaxis": "x",
         "y": [
          "No_DR"
         ],
         "yaxis": "y"
        },
        {
         "alignmentgroup": "True",
         "hovertemplate": "Severity=%{y}<br>Count=%{x}<extra></extra>",
         "legendgroup": "Mild",
         "marker": {
          "color": "#EF553B",
          "pattern": {
           "shape": ""
          }
         },
         "name": "Mild",
         "offsetgroup": "Mild",
         "orientation": "h",
         "showlegend": true,
         "textposition": "auto",
         "type": "bar",
         "x": [
          999
         ],
         "xaxis": "x",
         "y": [
          "Mild"
         ],
         "yaxis": "y"
        },
        {
         "alignmentgroup": "True",
         "hovertemplate": "Severity=%{y}<br>Count=%{x}<extra></extra>",
         "legendgroup": "Moderate",
         "marker": {
          "color": "#00cc96",
          "pattern": {
           "shape": ""
          }
         },
         "name": "Moderate",
         "offsetgroup": "Moderate",
         "orientation": "h",
         "showlegend": true,
         "textposition": "auto",
         "type": "bar",
         "x": [
          370
         ],
         "xaxis": "x",
         "y": [
          "Moderate"
         ],
         "yaxis": "y"
        },
        {
         "alignmentgroup": "True",
         "hovertemplate": "Severity=%{y}<br>Count=%{x}<extra></extra>",
         "legendgroup": "Severe",
         "marker": {
          "color": "#ab63fa",
          "pattern": {
           "shape": ""
          }
         },
         "name": "Severe",
         "offsetgroup": "Severe",
         "orientation": "h",
         "showlegend": true,
         "textposition": "auto",
         "type": "bar",
         "x": [
          295
         ],
         "xaxis": "x",
         "y": [
          "Severe"
         ],
         "yaxis": "y"
        },
        {
         "alignmentgroup": "True",
         "hovertemplate": "Severity=%{y}<br>Count=%{x}<extra></extra>",
         "legendgroup": "Proliferate_DR",
         "marker": {
          "color": "#FFA15A",
          "pattern": {
           "shape": ""
          }
         },
         "name": "Proliferate_DR",
         "offsetgroup": "Proliferate_DR",
         "orientation": "h",
         "showlegend": true,
         "textposition": "auto",
         "type": "bar",
         "x": [
          193
         ],
         "xaxis": "x",
         "y": [
          "Proliferate_DR"
         ],
         "yaxis": "y"
        }
       ],
       "layout": {
        "barmode": "relative",
        "legend": {
         "title": {
          "text": "Severity"
         },
         "tracegroupgap": 0
        },
        "template": {
         "data": {
          "bar": [
           {
            "error_x": {
             "color": "#2a3f5f"
            },
            "error_y": {
             "color": "#2a3f5f"
            },
            "marker": {
             "line": {
              "color": "#E5ECF6",
              "width": 0.5
             },
             "pattern": {
              "fillmode": "overlay",
              "size": 10,
              "solidity": 0.2
             }
            },
            "type": "bar"
           }
          ],
          "barpolar": [
           {
            "marker": {
             "line": {
              "color": "#E5ECF6",
              "width": 0.5
             },
             "pattern": {
              "fillmode": "overlay",
              "size": 10,
              "solidity": 0.2
             }
            },
            "type": "barpolar"
           }
          ],
          "carpet": [
           {
            "aaxis": {
             "endlinecolor": "#2a3f5f",
             "gridcolor": "white",
             "linecolor": "white",
             "minorgridcolor": "white",
             "startlinecolor": "#2a3f5f"
            },
            "baxis": {
             "endlinecolor": "#2a3f5f",
             "gridcolor": "white",
             "linecolor": "white",
             "minorgridcolor": "white",
             "startlinecolor": "#2a3f5f"
            },
            "type": "carpet"
           }
          ],
          "choropleth": [
           {
            "colorbar": {
             "outlinewidth": 0,
             "ticks": ""
            },
            "type": "choropleth"
           }
          ],
          "contour": [
           {
            "colorbar": {
             "outlinewidth": 0,
             "ticks": ""
            },
            "colorscale": [
             [
              0,
              "#0d0887"
             ],
             [
              0.1111111111111111,
              "#46039f"
             ],
             [
              0.2222222222222222,
              "#7201a8"
             ],
             [
              0.3333333333333333,
              "#9c179e"
             ],
             [
              0.4444444444444444,
              "#bd3786"
             ],
             [
              0.5555555555555556,
              "#d8576b"
             ],
             [
              0.6666666666666666,
              "#ed7953"
             ],
             [
              0.7777777777777778,
              "#fb9f3a"
             ],
             [
              0.8888888888888888,
              "#fdca26"
             ],
             [
              1,
              "#f0f921"
             ]
            ],
            "type": "contour"
           }
          ],
          "contourcarpet": [
           {
            "colorbar": {
             "outlinewidth": 0,
             "ticks": ""
            },
            "type": "contourcarpet"
           }
          ],
          "heatmap": [
           {
            "colorbar": {
             "outlinewidth": 0,
             "ticks": ""
            },
            "colorscale": [
             [
              0,
              "#0d0887"
             ],
             [
              0.1111111111111111,
              "#46039f"
             ],
             [
              0.2222222222222222,
              "#7201a8"
             ],
             [
              0.3333333333333333,
              "#9c179e"
             ],
             [
              0.4444444444444444,
              "#bd3786"
             ],
             [
              0.5555555555555556,
              "#d8576b"
             ],
             [
              0.6666666666666666,
              "#ed7953"
             ],
             [
              0.7777777777777778,
              "#fb9f3a"
             ],
             [
              0.8888888888888888,
              "#fdca26"
             ],
             [
              1,
              "#f0f921"
             ]
            ],
            "type": "heatmap"
           }
          ],
          "heatmapgl": [
           {
            "colorbar": {
             "outlinewidth": 0,
             "ticks": ""
            },
            "colorscale": [
             [
              0,
              "#0d0887"
             ],
             [
              0.1111111111111111,
              "#46039f"
             ],
             [
              0.2222222222222222,
              "#7201a8"
             ],
             [
              0.3333333333333333,
              "#9c179e"
             ],
             [
              0.4444444444444444,
              "#bd3786"
             ],
             [
              0.5555555555555556,
              "#d8576b"
             ],
             [
              0.6666666666666666,
              "#ed7953"
             ],
             [
              0.7777777777777778,
              "#fb9f3a"
             ],
             [
              0.8888888888888888,
              "#fdca26"
             ],
             [
              1,
              "#f0f921"
             ]
            ],
            "type": "heatmapgl"
           }
          ],
          "histogram": [
           {
            "marker": {
             "pattern": {
              "fillmode": "overlay",
              "size": 10,
              "solidity": 0.2
             }
            },
            "type": "histogram"
           }
          ],
          "histogram2d": [
           {
            "colorbar": {
             "outlinewidth": 0,
             "ticks": ""
            },
            "colorscale": [
             [
              0,
              "#0d0887"
             ],
             [
              0.1111111111111111,
              "#46039f"
             ],
             [
              0.2222222222222222,
              "#7201a8"
             ],
             [
              0.3333333333333333,
              "#9c179e"
             ],
             [
              0.4444444444444444,
              "#bd3786"
             ],
             [
              0.5555555555555556,
              "#d8576b"
             ],
             [
              0.6666666666666666,
              "#ed7953"
             ],
             [
              0.7777777777777778,
              "#fb9f3a"
             ],
             [
              0.8888888888888888,
              "#fdca26"
             ],
             [
              1,
              "#f0f921"
             ]
            ],
            "type": "histogram2d"
           }
          ],
          "histogram2dcontour": [
           {
            "colorbar": {
             "outlinewidth": 0,
             "ticks": ""
            },
            "colorscale": [
             [
              0,
              "#0d0887"
             ],
             [
              0.1111111111111111,
              "#46039f"
             ],
             [
              0.2222222222222222,
              "#7201a8"
             ],
             [
              0.3333333333333333,
              "#9c179e"
             ],
             [
              0.4444444444444444,
              "#bd3786"
             ],
             [
              0.5555555555555556,
              "#d8576b"
             ],
             [
              0.6666666666666666,
              "#ed7953"
             ],
             [
              0.7777777777777778,
              "#fb9f3a"
             ],
             [
              0.8888888888888888,
              "#fdca26"
             ],
             [
              1,
              "#f0f921"
             ]
            ],
            "type": "histogram2dcontour"
           }
          ],
          "mesh3d": [
           {
            "colorbar": {
             "outlinewidth": 0,
             "ticks": ""
            },
            "type": "mesh3d"
           }
          ],
          "parcoords": [
           {
            "line": {
             "colorbar": {
              "outlinewidth": 0,
              "ticks": ""
             }
            },
            "type": "parcoords"
           }
          ],
          "pie": [
           {
            "automargin": true,
            "type": "pie"
           }
          ],
          "scatter": [
           {
            "fillpattern": {
             "fillmode": "overlay",
             "size": 10,
             "solidity": 0.2
            },
            "type": "scatter"
           }
          ],
          "scatter3d": [
           {
            "line": {
             "colorbar": {
              "outlinewidth": 0,
              "ticks": ""
             }
            },
            "marker": {
             "colorbar": {
              "outlinewidth": 0,
              "ticks": ""
             }
            },
            "type": "scatter3d"
           }
          ],
          "scattercarpet": [
           {
            "marker": {
             "colorbar": {
              "outlinewidth": 0,
              "ticks": ""
             }
            },
            "type": "scattercarpet"
           }
          ],
          "scattergeo": [
           {
            "marker": {
             "colorbar": {
              "outlinewidth": 0,
              "ticks": ""
             }
            },
            "type": "scattergeo"
           }
          ],
          "scattergl": [
           {
            "marker": {
             "colorbar": {
              "outlinewidth": 0,
              "ticks": ""
             }
            },
            "type": "scattergl"
           }
          ],
          "scattermapbox": [
           {
            "marker": {
             "colorbar": {
              "outlinewidth": 0,
              "ticks": ""
             }
            },
            "type": "scattermapbox"
           }
          ],
          "scatterpolar": [
           {
            "marker": {
             "colorbar": {
              "outlinewidth": 0,
              "ticks": ""
             }
            },
            "type": "scatterpolar"
           }
          ],
          "scatterpolargl": [
           {
            "marker": {
             "colorbar": {
              "outlinewidth": 0,
              "ticks": ""
             }
            },
            "type": "scatterpolargl"
           }
          ],
          "scatterternary": [
           {
            "marker": {
             "colorbar": {
              "outlinewidth": 0,
              "ticks": ""
             }
            },
            "type": "scatterternary"
           }
          ],
          "surface": [
           {
            "colorbar": {
             "outlinewidth": 0,
             "ticks": ""
            },
            "colorscale": [
             [
              0,
              "#0d0887"
             ],
             [
              0.1111111111111111,
              "#46039f"
             ],
             [
              0.2222222222222222,
              "#7201a8"
             ],
             [
              0.3333333333333333,
              "#9c179e"
             ],
             [
              0.4444444444444444,
              "#bd3786"
             ],
             [
              0.5555555555555556,
              "#d8576b"
             ],
             [
              0.6666666666666666,
              "#ed7953"
             ],
             [
              0.7777777777777778,
              "#fb9f3a"
             ],
             [
              0.8888888888888888,
              "#fdca26"
             ],
             [
              1,
              "#f0f921"
             ]
            ],
            "type": "surface"
           }
          ],
          "table": [
           {
            "cells": {
             "fill": {
              "color": "#EBF0F8"
             },
             "line": {
              "color": "white"
             }
            },
            "header": {
             "fill": {
              "color": "#C8D4E3"
             },
             "line": {
              "color": "white"
             }
            },
            "type": "table"
           }
          ]
         },
         "layout": {
          "annotationdefaults": {
           "arrowcolor": "#2a3f5f",
           "arrowhead": 0,
           "arrowwidth": 1
          },
          "autotypenumbers": "strict",
          "coloraxis": {
           "colorbar": {
            "outlinewidth": 0,
            "ticks": ""
           }
          },
          "colorscale": {
           "diverging": [
            [
             0,
             "#8e0152"
            ],
            [
             0.1,
             "#c51b7d"
            ],
            [
             0.2,
             "#de77ae"
            ],
            [
             0.3,
             "#f1b6da"
            ],
            [
             0.4,
             "#fde0ef"
            ],
            [
             0.5,
             "#f7f7f7"
            ],
            [
             0.6,
             "#e6f5d0"
            ],
            [
             0.7,
             "#b8e186"
            ],
            [
             0.8,
             "#7fbc41"
            ],
            [
             0.9,
             "#4d9221"
            ],
            [
             1,
             "#276419"
            ]
           ],
           "sequential": [
            [
             0,
             "#0d0887"
            ],
            [
             0.1111111111111111,
             "#46039f"
            ],
            [
             0.2222222222222222,
             "#7201a8"
            ],
            [
             0.3333333333333333,
             "#9c179e"
            ],
            [
             0.4444444444444444,
             "#bd3786"
            ],
            [
             0.5555555555555556,
             "#d8576b"
            ],
            [
             0.6666666666666666,
             "#ed7953"
            ],
            [
             0.7777777777777778,
             "#fb9f3a"
            ],
            [
             0.8888888888888888,
             "#fdca26"
            ],
            [
             1,
             "#f0f921"
            ]
           ],
           "sequentialminus": [
            [
             0,
             "#0d0887"
            ],
            [
             0.1111111111111111,
             "#46039f"
            ],
            [
             0.2222222222222222,
             "#7201a8"
            ],
            [
             0.3333333333333333,
             "#9c179e"
            ],
            [
             0.4444444444444444,
             "#bd3786"
            ],
            [
             0.5555555555555556,
             "#d8576b"
            ],
            [
             0.6666666666666666,
             "#ed7953"
            ],
            [
             0.7777777777777778,
             "#fb9f3a"
            ],
            [
             0.8888888888888888,
             "#fdca26"
            ],
            [
             1,
             "#f0f921"
            ]
           ]
          },
          "colorway": [
           "#636efa",
           "#EF553B",
           "#00cc96",
           "#ab63fa",
           "#FFA15A",
           "#19d3f3",
           "#FF6692",
           "#B6E880",
           "#FF97FF",
           "#FECB52"
          ],
          "font": {
           "color": "#2a3f5f"
          },
          "geo": {
           "bgcolor": "white",
           "lakecolor": "white",
           "landcolor": "#E5ECF6",
           "showlakes": true,
           "showland": true,
           "subunitcolor": "white"
          },
          "hoverlabel": {
           "align": "left"
          },
          "hovermode": "closest",
          "mapbox": {
           "style": "light"
          },
          "paper_bgcolor": "white",
          "plot_bgcolor": "#E5ECF6",
          "polar": {
           "angularaxis": {
            "gridcolor": "white",
            "linecolor": "white",
            "ticks": ""
           },
           "bgcolor": "#E5ECF6",
           "radialaxis": {
            "gridcolor": "white",
            "linecolor": "white",
            "ticks": ""
           }
          },
          "scene": {
           "xaxis": {
            "backgroundcolor": "#E5ECF6",
            "gridcolor": "white",
            "gridwidth": 2,
            "linecolor": "white",
            "showbackground": true,
            "ticks": "",
            "zerolinecolor": "white"
           },
           "yaxis": {
            "backgroundcolor": "#E5ECF6",
            "gridcolor": "white",
            "gridwidth": 2,
            "linecolor": "white",
            "showbackground": true,
            "ticks": "",
            "zerolinecolor": "white"
           },
           "zaxis": {
            "backgroundcolor": "#E5ECF6",
            "gridcolor": "white",
            "gridwidth": 2,
            "linecolor": "white",
            "showbackground": true,
            "ticks": "",
            "zerolinecolor": "white"
           }
          },
          "shapedefaults": {
           "line": {
            "color": "#2a3f5f"
           }
          },
          "ternary": {
           "aaxis": {
            "gridcolor": "white",
            "linecolor": "white",
            "ticks": ""
           },
           "baxis": {
            "gridcolor": "white",
            "linecolor": "white",
            "ticks": ""
           },
           "bgcolor": "#E5ECF6",
           "caxis": {
            "gridcolor": "white",
            "linecolor": "white",
            "ticks": ""
           }
          },
          "title": {
           "x": 0.05
          },
          "xaxis": {
           "automargin": true,
           "gridcolor": "white",
           "linecolor": "white",
           "ticks": "",
           "title": {
            "standoff": 15
           },
           "zerolinecolor": "white",
           "zerolinewidth": 2
          },
          "yaxis": {
           "automargin": true,
           "gridcolor": "white",
           "linecolor": "white",
           "ticks": "",
           "title": {
            "standoff": 15
           },
           "zerolinecolor": "white",
           "zerolinewidth": 2
          }
         }
        },
        "title": {
         "text": "Percentage among the different Severities of DR"
        },
        "xaxis": {
         "anchor": "y",
         "domain": [
          0,
          1
         ],
         "title": {
          "text": "Count"
         }
        },
        "yaxis": {
         "anchor": "x",
         "categoryarray": [
          "Proliferate_DR",
          "Severe",
          "Moderate",
          "Mild",
          "No_DR"
         ],
         "categoryorder": "total ascending",
         "domain": [
          0,
          1
         ],
         "title": {
          "text": "Severity"
         }
        }
       }
      },
      "text/html": [
       "<div>                            <div id=\"548afa29-acd9-47da-8b4e-b1b2c2b89847\" class=\"plotly-graph-div\" style=\"height:525px; width:100%;\"></div>            <script type=\"text/javascript\">                require([\"plotly\"], function(Plotly) {                    window.PLOTLYENV=window.PLOTLYENV || {};                                    if (document.getElementById(\"548afa29-acd9-47da-8b4e-b1b2c2b89847\")) {                    Plotly.newPlot(                        \"548afa29-acd9-47da-8b4e-b1b2c2b89847\",                        [{\"alignmentgroup\":\"True\",\"hovertemplate\":\"Severity=%{y}<br>Count=%{x}<extra></extra>\",\"legendgroup\":\"No_DR\",\"marker\":{\"color\":\"#636efa\",\"pattern\":{\"shape\":\"\"}},\"name\":\"No_DR\",\"offsetgroup\":\"No_DR\",\"orientation\":\"h\",\"showlegend\":true,\"textposition\":\"auto\",\"x\":[1805],\"xaxis\":\"x\",\"y\":[\"No_DR\"],\"yaxis\":\"y\",\"type\":\"bar\"},{\"alignmentgroup\":\"True\",\"hovertemplate\":\"Severity=%{y}<br>Count=%{x}<extra></extra>\",\"legendgroup\":\"Mild\",\"marker\":{\"color\":\"#EF553B\",\"pattern\":{\"shape\":\"\"}},\"name\":\"Mild\",\"offsetgroup\":\"Mild\",\"orientation\":\"h\",\"showlegend\":true,\"textposition\":\"auto\",\"x\":[999],\"xaxis\":\"x\",\"y\":[\"Mild\"],\"yaxis\":\"y\",\"type\":\"bar\"},{\"alignmentgroup\":\"True\",\"hovertemplate\":\"Severity=%{y}<br>Count=%{x}<extra></extra>\",\"legendgroup\":\"Moderate\",\"marker\":{\"color\":\"#00cc96\",\"pattern\":{\"shape\":\"\"}},\"name\":\"Moderate\",\"offsetgroup\":\"Moderate\",\"orientation\":\"h\",\"showlegend\":true,\"textposition\":\"auto\",\"x\":[370],\"xaxis\":\"x\",\"y\":[\"Moderate\"],\"yaxis\":\"y\",\"type\":\"bar\"},{\"alignmentgroup\":\"True\",\"hovertemplate\":\"Severity=%{y}<br>Count=%{x}<extra></extra>\",\"legendgroup\":\"Severe\",\"marker\":{\"color\":\"#ab63fa\",\"pattern\":{\"shape\":\"\"}},\"name\":\"Severe\",\"offsetgroup\":\"Severe\",\"orientation\":\"h\",\"showlegend\":true,\"textposition\":\"auto\",\"x\":[295],\"xaxis\":\"x\",\"y\":[\"Severe\"],\"yaxis\":\"y\",\"type\":\"bar\"},{\"alignmentgroup\":\"True\",\"hovertemplate\":\"Severity=%{y}<br>Count=%{x}<extra></extra>\",\"legendgroup\":\"Proliferate_DR\",\"marker\":{\"color\":\"#FFA15A\",\"pattern\":{\"shape\":\"\"}},\"name\":\"Proliferate_DR\",\"offsetgroup\":\"Proliferate_DR\",\"orientation\":\"h\",\"showlegend\":true,\"textposition\":\"auto\",\"x\":[193],\"xaxis\":\"x\",\"y\":[\"Proliferate_DR\"],\"yaxis\":\"y\",\"type\":\"bar\"}],                        {\"template\":{\"data\":{\"histogram2dcontour\":[{\"type\":\"histogram2dcontour\",\"colorbar\":{\"outlinewidth\":0,\"ticks\":\"\"},\"colorscale\":[[0.0,\"#0d0887\"],[0.1111111111111111,\"#46039f\"],[0.2222222222222222,\"#7201a8\"],[0.3333333333333333,\"#9c179e\"],[0.4444444444444444,\"#bd3786\"],[0.5555555555555556,\"#d8576b\"],[0.6666666666666666,\"#ed7953\"],[0.7777777777777778,\"#fb9f3a\"],[0.8888888888888888,\"#fdca26\"],[1.0,\"#f0f921\"]]}],\"choropleth\":[{\"type\":\"choropleth\",\"colorbar\":{\"outlinewidth\":0,\"ticks\":\"\"}}],\"histogram2d\":[{\"type\":\"histogram2d\",\"colorbar\":{\"outlinewidth\":0,\"ticks\":\"\"},\"colorscale\":[[0.0,\"#0d0887\"],[0.1111111111111111,\"#46039f\"],[0.2222222222222222,\"#7201a8\"],[0.3333333333333333,\"#9c179e\"],[0.4444444444444444,\"#bd3786\"],[0.5555555555555556,\"#d8576b\"],[0.6666666666666666,\"#ed7953\"],[0.7777777777777778,\"#fb9f3a\"],[0.8888888888888888,\"#fdca26\"],[1.0,\"#f0f921\"]]}],\"heatmap\":[{\"type\":\"heatmap\",\"colorbar\":{\"outlinewidth\":0,\"ticks\":\"\"},\"colorscale\":[[0.0,\"#0d0887\"],[0.1111111111111111,\"#46039f\"],[0.2222222222222222,\"#7201a8\"],[0.3333333333333333,\"#9c179e\"],[0.4444444444444444,\"#bd3786\"],[0.5555555555555556,\"#d8576b\"],[0.6666666666666666,\"#ed7953\"],[0.7777777777777778,\"#fb9f3a\"],[0.8888888888888888,\"#fdca26\"],[1.0,\"#f0f921\"]]}],\"heatmapgl\":[{\"type\":\"heatmapgl\",\"colorbar\":{\"outlinewidth\":0,\"ticks\":\"\"},\"colorscale\":[[0.0,\"#0d0887\"],[0.1111111111111111,\"#46039f\"],[0.2222222222222222,\"#7201a8\"],[0.3333333333333333,\"#9c179e\"],[0.4444444444444444,\"#bd3786\"],[0.5555555555555556,\"#d8576b\"],[0.6666666666666666,\"#ed7953\"],[0.7777777777777778,\"#fb9f3a\"],[0.8888888888888888,\"#fdca26\"],[1.0,\"#f0f921\"]]}],\"contourcarpet\":[{\"type\":\"contourcarpet\",\"colorbar\":{\"outlinewidth\":0,\"ticks\":\"\"}}],\"contour\":[{\"type\":\"contour\",\"colorbar\":{\"outlinewidth\":0,\"ticks\":\"\"},\"colorscale\":[[0.0,\"#0d0887\"],[0.1111111111111111,\"#46039f\"],[0.2222222222222222,\"#7201a8\"],[0.3333333333333333,\"#9c179e\"],[0.4444444444444444,\"#bd3786\"],[0.5555555555555556,\"#d8576b\"],[0.6666666666666666,\"#ed7953\"],[0.7777777777777778,\"#fb9f3a\"],[0.8888888888888888,\"#fdca26\"],[1.0,\"#f0f921\"]]}],\"surface\":[{\"type\":\"surface\",\"colorbar\":{\"outlinewidth\":0,\"ticks\":\"\"},\"colorscale\":[[0.0,\"#0d0887\"],[0.1111111111111111,\"#46039f\"],[0.2222222222222222,\"#7201a8\"],[0.3333333333333333,\"#9c179e\"],[0.4444444444444444,\"#bd3786\"],[0.5555555555555556,\"#d8576b\"],[0.6666666666666666,\"#ed7953\"],[0.7777777777777778,\"#fb9f3a\"],[0.8888888888888888,\"#fdca26\"],[1.0,\"#f0f921\"]]}],\"mesh3d\":[{\"type\":\"mesh3d\",\"colorbar\":{\"outlinewidth\":0,\"ticks\":\"\"}}],\"scatter\":[{\"fillpattern\":{\"fillmode\":\"overlay\",\"size\":10,\"solidity\":0.2},\"type\":\"scatter\"}],\"parcoords\":[{\"type\":\"parcoords\",\"line\":{\"colorbar\":{\"outlinewidth\":0,\"ticks\":\"\"}}}],\"scatterpolargl\":[{\"type\":\"scatterpolargl\",\"marker\":{\"colorbar\":{\"outlinewidth\":0,\"ticks\":\"\"}}}],\"bar\":[{\"error_x\":{\"color\":\"#2a3f5f\"},\"error_y\":{\"color\":\"#2a3f5f\"},\"marker\":{\"line\":{\"color\":\"#E5ECF6\",\"width\":0.5},\"pattern\":{\"fillmode\":\"overlay\",\"size\":10,\"solidity\":0.2}},\"type\":\"bar\"}],\"scattergeo\":[{\"type\":\"scattergeo\",\"marker\":{\"colorbar\":{\"outlinewidth\":0,\"ticks\":\"\"}}}],\"scatterpolar\":[{\"type\":\"scatterpolar\",\"marker\":{\"colorbar\":{\"outlinewidth\":0,\"ticks\":\"\"}}}],\"histogram\":[{\"marker\":{\"pattern\":{\"fillmode\":\"overlay\",\"size\":10,\"solidity\":0.2}},\"type\":\"histogram\"}],\"scattergl\":[{\"type\":\"scattergl\",\"marker\":{\"colorbar\":{\"outlinewidth\":0,\"ticks\":\"\"}}}],\"scatter3d\":[{\"type\":\"scatter3d\",\"line\":{\"colorbar\":{\"outlinewidth\":0,\"ticks\":\"\"}},\"marker\":{\"colorbar\":{\"outlinewidth\":0,\"ticks\":\"\"}}}],\"scattermapbox\":[{\"type\":\"scattermapbox\",\"marker\":{\"colorbar\":{\"outlinewidth\":0,\"ticks\":\"\"}}}],\"scatterternary\":[{\"type\":\"scatterternary\",\"marker\":{\"colorbar\":{\"outlinewidth\":0,\"ticks\":\"\"}}}],\"scattercarpet\":[{\"type\":\"scattercarpet\",\"marker\":{\"colorbar\":{\"outlinewidth\":0,\"ticks\":\"\"}}}],\"carpet\":[{\"aaxis\":{\"endlinecolor\":\"#2a3f5f\",\"gridcolor\":\"white\",\"linecolor\":\"white\",\"minorgridcolor\":\"white\",\"startlinecolor\":\"#2a3f5f\"},\"baxis\":{\"endlinecolor\":\"#2a3f5f\",\"gridcolor\":\"white\",\"linecolor\":\"white\",\"minorgridcolor\":\"white\",\"startlinecolor\":\"#2a3f5f\"},\"type\":\"carpet\"}],\"table\":[{\"cells\":{\"fill\":{\"color\":\"#EBF0F8\"},\"line\":{\"color\":\"white\"}},\"header\":{\"fill\":{\"color\":\"#C8D4E3\"},\"line\":{\"color\":\"white\"}},\"type\":\"table\"}],\"barpolar\":[{\"marker\":{\"line\":{\"color\":\"#E5ECF6\",\"width\":0.5},\"pattern\":{\"fillmode\":\"overlay\",\"size\":10,\"solidity\":0.2}},\"type\":\"barpolar\"}],\"pie\":[{\"automargin\":true,\"type\":\"pie\"}]},\"layout\":{\"autotypenumbers\":\"strict\",\"colorway\":[\"#636efa\",\"#EF553B\",\"#00cc96\",\"#ab63fa\",\"#FFA15A\",\"#19d3f3\",\"#FF6692\",\"#B6E880\",\"#FF97FF\",\"#FECB52\"],\"font\":{\"color\":\"#2a3f5f\"},\"hovermode\":\"closest\",\"hoverlabel\":{\"align\":\"left\"},\"paper_bgcolor\":\"white\",\"plot_bgcolor\":\"#E5ECF6\",\"polar\":{\"bgcolor\":\"#E5ECF6\",\"angularaxis\":{\"gridcolor\":\"white\",\"linecolor\":\"white\",\"ticks\":\"\"},\"radialaxis\":{\"gridcolor\":\"white\",\"linecolor\":\"white\",\"ticks\":\"\"}},\"ternary\":{\"bgcolor\":\"#E5ECF6\",\"aaxis\":{\"gridcolor\":\"white\",\"linecolor\":\"white\",\"ticks\":\"\"},\"baxis\":{\"gridcolor\":\"white\",\"linecolor\":\"white\",\"ticks\":\"\"},\"caxis\":{\"gridcolor\":\"white\",\"linecolor\":\"white\",\"ticks\":\"\"}},\"coloraxis\":{\"colorbar\":{\"outlinewidth\":0,\"ticks\":\"\"}},\"colorscale\":{\"sequential\":[[0.0,\"#0d0887\"],[0.1111111111111111,\"#46039f\"],[0.2222222222222222,\"#7201a8\"],[0.3333333333333333,\"#9c179e\"],[0.4444444444444444,\"#bd3786\"],[0.5555555555555556,\"#d8576b\"],[0.6666666666666666,\"#ed7953\"],[0.7777777777777778,\"#fb9f3a\"],[0.8888888888888888,\"#fdca26\"],[1.0,\"#f0f921\"]],\"sequentialminus\":[[0.0,\"#0d0887\"],[0.1111111111111111,\"#46039f\"],[0.2222222222222222,\"#7201a8\"],[0.3333333333333333,\"#9c179e\"],[0.4444444444444444,\"#bd3786\"],[0.5555555555555556,\"#d8576b\"],[0.6666666666666666,\"#ed7953\"],[0.7777777777777778,\"#fb9f3a\"],[0.8888888888888888,\"#fdca26\"],[1.0,\"#f0f921\"]],\"diverging\":[[0,\"#8e0152\"],[0.1,\"#c51b7d\"],[0.2,\"#de77ae\"],[0.3,\"#f1b6da\"],[0.4,\"#fde0ef\"],[0.5,\"#f7f7f7\"],[0.6,\"#e6f5d0\"],[0.7,\"#b8e186\"],[0.8,\"#7fbc41\"],[0.9,\"#4d9221\"],[1,\"#276419\"]]},\"xaxis\":{\"gridcolor\":\"white\",\"linecolor\":\"white\",\"ticks\":\"\",\"title\":{\"standoff\":15},\"zerolinecolor\":\"white\",\"automargin\":true,\"zerolinewidth\":2},\"yaxis\":{\"gridcolor\":\"white\",\"linecolor\":\"white\",\"ticks\":\"\",\"title\":{\"standoff\":15},\"zerolinecolor\":\"white\",\"automargin\":true,\"zerolinewidth\":2},\"scene\":{\"xaxis\":{\"backgroundcolor\":\"#E5ECF6\",\"gridcolor\":\"white\",\"linecolor\":\"white\",\"showbackground\":true,\"ticks\":\"\",\"zerolinecolor\":\"white\",\"gridwidth\":2},\"yaxis\":{\"backgroundcolor\":\"#E5ECF6\",\"gridcolor\":\"white\",\"linecolor\":\"white\",\"showbackground\":true,\"ticks\":\"\",\"zerolinecolor\":\"white\",\"gridwidth\":2},\"zaxis\":{\"backgroundcolor\":\"#E5ECF6\",\"gridcolor\":\"white\",\"linecolor\":\"white\",\"showbackground\":true,\"ticks\":\"\",\"zerolinecolor\":\"white\",\"gridwidth\":2}},\"shapedefaults\":{\"line\":{\"color\":\"#2a3f5f\"}},\"annotationdefaults\":{\"arrowcolor\":\"#2a3f5f\",\"arrowhead\":0,\"arrowwidth\":1},\"geo\":{\"bgcolor\":\"white\",\"landcolor\":\"#E5ECF6\",\"subunitcolor\":\"white\",\"showland\":true,\"showlakes\":true,\"lakecolor\":\"white\"},\"title\":{\"x\":0.05},\"mapbox\":{\"style\":\"light\"}}},\"xaxis\":{\"anchor\":\"y\",\"domain\":[0.0,1.0],\"title\":{\"text\":\"Count\"}},\"yaxis\":{\"anchor\":\"x\",\"domain\":[0.0,1.0],\"title\":{\"text\":\"Severity\"},\"categoryorder\":\"total ascending\",\"categoryarray\":[\"Proliferate_DR\",\"Severe\",\"Moderate\",\"Mild\",\"No_DR\"]},\"legend\":{\"title\":{\"text\":\"Severity\"},\"tracegroupgap\":0},\"title\":{\"text\":\"Percentage among the different Severities of DR\"},\"barmode\":\"relative\"},                        {\"responsive\": true}                    ).then(function(){\n",
       "                            \n",
       "var gd = document.getElementById('548afa29-acd9-47da-8b4e-b1b2c2b89847');\n",
       "var x = new MutationObserver(function (mutations, observer) {{\n",
       "        var display = window.getComputedStyle(gd).display;\n",
       "        if (!display || display === 'none') {{\n",
       "            console.log([gd, 'removed!']);\n",
       "            Plotly.purge(gd);\n",
       "            observer.disconnect();\n",
       "        }}\n",
       "}});\n",
       "\n",
       "// Listen for the removal of the full notebook cells\n",
       "var notebookContainer = gd.closest('#notebook-container');\n",
       "if (notebookContainer) {{\n",
       "    x.observe(notebookContainer, {childList: true});\n",
       "}}\n",
       "\n",
       "// Listen for the clearing of the current output cell\n",
       "var outputEl = gd.closest('.output');\n",
       "if (outputEl) {{\n",
       "    x.observe(outputEl, {childList: true});\n",
       "}}\n",
       "\n",
       "                        })                };                });            </script>        </div>"
      ]
     },
     "metadata": {},
     "output_type": "display_data"
    }
   ],
   "source": [
    "import plotly.express as px\n",
    "\n",
    "Class_series = pd.Series(df['Label'])\n",
    "lis = [\"No_DR\", \"Mild\", \"Moderate\", \"Severe\", \"Proliferate_DR\"]\n",
    "\n",
    "DR_or_not = Class_series.value_counts().tolist()\n",
    "\n",
    "data = {'Severity': lis, 'Count': DR_or_not}\n",
    "df_plot = pd.DataFrame(data)\n",
    "\n",
    "fig = px.bar(df_plot, x='Count', y='Severity', orientation='h',\n",
    "             color='Severity',\n",
    "             title='Percentage among the different Severities of DR')\n",
    "fig.update_layout(yaxis={'categoryorder': 'total ascending'})  \n",
    "fig.show()"
   ]
  },
  {
   "cell_type": "code",
   "execution_count": 25,
   "id": "1c9f7f59",
   "metadata": {},
   "outputs": [],
   "source": [
    "from sklearn.preprocessing import LabelEncoder\n",
    "labelEncoder = LabelEncoder()\n",
    "labelEncoder.fit(df['Label'])\n",
    "df['Label']=labelEncoder.transform(df['Label'])"
   ]
  },
  {
   "cell_type": "code",
   "execution_count": 26,
   "id": "660917da",
   "metadata": {},
   "outputs": [
    {
     "data": {
      "text/plain": [
       "4    400\n",
       "0    400\n",
       "3    400\n",
       "2    400\n",
       "1    400\n",
       "Name: Label, dtype: int64"
      ]
     },
     "execution_count": 26,
     "metadata": {},
     "output_type": "execute_result"
    }
   ],
   "source": [
    "from sklearn.utils import resample\n",
    "\n",
    "n_samples = 400\n",
    "label_counts = df['Label'].value_counts()\n",
    "dfs_by_label_resampled = {}\n",
    "\n",
    "# Iterate through each label\n",
    "for label in range(5):    \n",
    "    # Check if there are enough samples for resampling\n",
    "    if label_counts[label] < n_samples:\n",
    "        # If there are not enough samples, duplicate the existing ones to reach 400\n",
    "        df_label_resampled = pd.concat([df[df['Label'] == label]] * ((n_samples + label_counts[label] - 1) // label_counts[label]))\n",
    "        df_label_resampled = df_label_resampled.sample(n_samples, replace=True, random_state=42)\n",
    "    else:\n",
    "        # If there are enough samples, resample to get exactly 400\n",
    "        df_label_resampled = resample(df[df['Label'] == label], n_samples=n_samples, replace=True, random_state=42)\n",
    "        \n",
    "            # Append the resampled DataFrame to the dictionary\n",
    "    dfs_by_label_resampled[label] = df_label_resampled\n",
    "\n",
    "# Concatenate the resampled DataFrames\n",
    "balanced_df = pd.concat(dfs_by_label_resampled.values())\n",
    "\n",
    "# Shuffle the rows\n",
    "balanced_df = balanced_df.sample(frac=1, random_state=42).reset_index(drop=True)\n",
    "balanced_df['Label'].value_counts()"
   ]
  },
  {
   "cell_type": "code",
   "execution_count": 27,
   "id": "bbf47fe6",
   "metadata": {},
   "outputs": [
    {
     "data": {
      "text/html": [
       "<div>\n",
       "<style scoped>\n",
       "    .dataframe tbody tr th:only-of-type {\n",
       "        vertical-align: middle;\n",
       "    }\n",
       "\n",
       "    .dataframe tbody tr th {\n",
       "        vertical-align: top;\n",
       "    }\n",
       "\n",
       "    .dataframe thead th {\n",
       "        text-align: right;\n",
       "    }\n",
       "</style>\n",
       "<table border=\"1\" class=\"dataframe\">\n",
       "  <thead>\n",
       "    <tr style=\"text-align: right;\">\n",
       "      <th></th>\n",
       "      <th>Filepath</th>\n",
       "      <th>Label</th>\n",
       "    </tr>\n",
       "  </thead>\n",
       "  <tbody>\n",
       "    <tr>\n",
       "      <th>0</th>\n",
       "      <td>C:\\Users\\prana\\Downloads\\gaussian_filtered_ima...</td>\n",
       "      <td>4</td>\n",
       "    </tr>\n",
       "    <tr>\n",
       "      <th>1</th>\n",
       "      <td>C:\\Users\\prana\\Downloads\\gaussian_filtered_ima...</td>\n",
       "      <td>0</td>\n",
       "    </tr>\n",
       "    <tr>\n",
       "      <th>2</th>\n",
       "      <td>C:\\Users\\prana\\Downloads\\gaussian_filtered_ima...</td>\n",
       "      <td>3</td>\n",
       "    </tr>\n",
       "    <tr>\n",
       "      <th>3</th>\n",
       "      <td>C:\\Users\\prana\\Downloads\\gaussian_filtered_ima...</td>\n",
       "      <td>2</td>\n",
       "    </tr>\n",
       "    <tr>\n",
       "      <th>4</th>\n",
       "      <td>C:\\Users\\prana\\Downloads\\gaussian_filtered_ima...</td>\n",
       "      <td>3</td>\n",
       "    </tr>\n",
       "  </tbody>\n",
       "</table>\n",
       "</div>"
      ],
      "text/plain": [
       "                                            Filepath  Label\n",
       "0  C:\\Users\\prana\\Downloads\\gaussian_filtered_ima...      4\n",
       "1  C:\\Users\\prana\\Downloads\\gaussian_filtered_ima...      0\n",
       "2  C:\\Users\\prana\\Downloads\\gaussian_filtered_ima...      3\n",
       "3  C:\\Users\\prana\\Downloads\\gaussian_filtered_ima...      2\n",
       "4  C:\\Users\\prana\\Downloads\\gaussian_filtered_ima...      3"
      ]
     },
     "execution_count": 27,
     "metadata": {},
     "output_type": "execute_result"
    }
   ],
   "source": [
    "balanced_df.head()"
   ]
  },
  {
   "cell_type": "code",
   "execution_count": 28,
   "id": "34f7c956",
   "metadata": {},
   "outputs": [
    {
     "data": {
      "application/vnd.plotly.v1+json": {
       "config": {
        "plotlyServerURL": "https://plot.ly"
       },
       "data": [
        {
         "alignmentgroup": "True",
         "hovertemplate": "Severity=%{y}<br>Count=%{x}<extra></extra>",
         "legendgroup": "No_DR",
         "marker": {
          "color": "#636efa",
          "pattern": {
           "shape": ""
          }
         },
         "name": "No_DR",
         "offsetgroup": "No_DR",
         "orientation": "h",
         "showlegend": true,
         "textposition": "auto",
         "type": "bar",
         "x": [
          400
         ],
         "xaxis": "x",
         "y": [
          "No_DR"
         ],
         "yaxis": "y"
        },
        {
         "alignmentgroup": "True",
         "hovertemplate": "Severity=%{y}<br>Count=%{x}<extra></extra>",
         "legendgroup": "Mild",
         "marker": {
          "color": "#EF553B",
          "pattern": {
           "shape": ""
          }
         },
         "name": "Mild",
         "offsetgroup": "Mild",
         "orientation": "h",
         "showlegend": true,
         "textposition": "auto",
         "type": "bar",
         "x": [
          400
         ],
         "xaxis": "x",
         "y": [
          "Mild"
         ],
         "yaxis": "y"
        },
        {
         "alignmentgroup": "True",
         "hovertemplate": "Severity=%{y}<br>Count=%{x}<extra></extra>",
         "legendgroup": "Moderate",
         "marker": {
          "color": "#00cc96",
          "pattern": {
           "shape": ""
          }
         },
         "name": "Moderate",
         "offsetgroup": "Moderate",
         "orientation": "h",
         "showlegend": true,
         "textposition": "auto",
         "type": "bar",
         "x": [
          400
         ],
         "xaxis": "x",
         "y": [
          "Moderate"
         ],
         "yaxis": "y"
        },
        {
         "alignmentgroup": "True",
         "hovertemplate": "Severity=%{y}<br>Count=%{x}<extra></extra>",
         "legendgroup": "Severe",
         "marker": {
          "color": "#ab63fa",
          "pattern": {
           "shape": ""
          }
         },
         "name": "Severe",
         "offsetgroup": "Severe",
         "orientation": "h",
         "showlegend": true,
         "textposition": "auto",
         "type": "bar",
         "x": [
          400
         ],
         "xaxis": "x",
         "y": [
          "Severe"
         ],
         "yaxis": "y"
        },
        {
         "alignmentgroup": "True",
         "hovertemplate": "Severity=%{y}<br>Count=%{x}<extra></extra>",
         "legendgroup": "Proliferate_DR",
         "marker": {
          "color": "#FFA15A",
          "pattern": {
           "shape": ""
          }
         },
         "name": "Proliferate_DR",
         "offsetgroup": "Proliferate_DR",
         "orientation": "h",
         "showlegend": true,
         "textposition": "auto",
         "type": "bar",
         "x": [
          400
         ],
         "xaxis": "x",
         "y": [
          "Proliferate_DR"
         ],
         "yaxis": "y"
        }
       ],
       "layout": {
        "barmode": "relative",
        "legend": {
         "title": {
          "text": "Severity"
         },
         "tracegroupgap": 0
        },
        "template": {
         "data": {
          "bar": [
           {
            "error_x": {
             "color": "#2a3f5f"
            },
            "error_y": {
             "color": "#2a3f5f"
            },
            "marker": {
             "line": {
              "color": "#E5ECF6",
              "width": 0.5
             },
             "pattern": {
              "fillmode": "overlay",
              "size": 10,
              "solidity": 0.2
             }
            },
            "type": "bar"
           }
          ],
          "barpolar": [
           {
            "marker": {
             "line": {
              "color": "#E5ECF6",
              "width": 0.5
             },
             "pattern": {
              "fillmode": "overlay",
              "size": 10,
              "solidity": 0.2
             }
            },
            "type": "barpolar"
           }
          ],
          "carpet": [
           {
            "aaxis": {
             "endlinecolor": "#2a3f5f",
             "gridcolor": "white",
             "linecolor": "white",
             "minorgridcolor": "white",
             "startlinecolor": "#2a3f5f"
            },
            "baxis": {
             "endlinecolor": "#2a3f5f",
             "gridcolor": "white",
             "linecolor": "white",
             "minorgridcolor": "white",
             "startlinecolor": "#2a3f5f"
            },
            "type": "carpet"
           }
          ],
          "choropleth": [
           {
            "colorbar": {
             "outlinewidth": 0,
             "ticks": ""
            },
            "type": "choropleth"
           }
          ],
          "contour": [
           {
            "colorbar": {
             "outlinewidth": 0,
             "ticks": ""
            },
            "colorscale": [
             [
              0,
              "#0d0887"
             ],
             [
              0.1111111111111111,
              "#46039f"
             ],
             [
              0.2222222222222222,
              "#7201a8"
             ],
             [
              0.3333333333333333,
              "#9c179e"
             ],
             [
              0.4444444444444444,
              "#bd3786"
             ],
             [
              0.5555555555555556,
              "#d8576b"
             ],
             [
              0.6666666666666666,
              "#ed7953"
             ],
             [
              0.7777777777777778,
              "#fb9f3a"
             ],
             [
              0.8888888888888888,
              "#fdca26"
             ],
             [
              1,
              "#f0f921"
             ]
            ],
            "type": "contour"
           }
          ],
          "contourcarpet": [
           {
            "colorbar": {
             "outlinewidth": 0,
             "ticks": ""
            },
            "type": "contourcarpet"
           }
          ],
          "heatmap": [
           {
            "colorbar": {
             "outlinewidth": 0,
             "ticks": ""
            },
            "colorscale": [
             [
              0,
              "#0d0887"
             ],
             [
              0.1111111111111111,
              "#46039f"
             ],
             [
              0.2222222222222222,
              "#7201a8"
             ],
             [
              0.3333333333333333,
              "#9c179e"
             ],
             [
              0.4444444444444444,
              "#bd3786"
             ],
             [
              0.5555555555555556,
              "#d8576b"
             ],
             [
              0.6666666666666666,
              "#ed7953"
             ],
             [
              0.7777777777777778,
              "#fb9f3a"
             ],
             [
              0.8888888888888888,
              "#fdca26"
             ],
             [
              1,
              "#f0f921"
             ]
            ],
            "type": "heatmap"
           }
          ],
          "heatmapgl": [
           {
            "colorbar": {
             "outlinewidth": 0,
             "ticks": ""
            },
            "colorscale": [
             [
              0,
              "#0d0887"
             ],
             [
              0.1111111111111111,
              "#46039f"
             ],
             [
              0.2222222222222222,
              "#7201a8"
             ],
             [
              0.3333333333333333,
              "#9c179e"
             ],
             [
              0.4444444444444444,
              "#bd3786"
             ],
             [
              0.5555555555555556,
              "#d8576b"
             ],
             [
              0.6666666666666666,
              "#ed7953"
             ],
             [
              0.7777777777777778,
              "#fb9f3a"
             ],
             [
              0.8888888888888888,
              "#fdca26"
             ],
             [
              1,
              "#f0f921"
             ]
            ],
            "type": "heatmapgl"
           }
          ],
          "histogram": [
           {
            "marker": {
             "pattern": {
              "fillmode": "overlay",
              "size": 10,
              "solidity": 0.2
             }
            },
            "type": "histogram"
           }
          ],
          "histogram2d": [
           {
            "colorbar": {
             "outlinewidth": 0,
             "ticks": ""
            },
            "colorscale": [
             [
              0,
              "#0d0887"
             ],
             [
              0.1111111111111111,
              "#46039f"
             ],
             [
              0.2222222222222222,
              "#7201a8"
             ],
             [
              0.3333333333333333,
              "#9c179e"
             ],
             [
              0.4444444444444444,
              "#bd3786"
             ],
             [
              0.5555555555555556,
              "#d8576b"
             ],
             [
              0.6666666666666666,
              "#ed7953"
             ],
             [
              0.7777777777777778,
              "#fb9f3a"
             ],
             [
              0.8888888888888888,
              "#fdca26"
             ],
             [
              1,
              "#f0f921"
             ]
            ],
            "type": "histogram2d"
           }
          ],
          "histogram2dcontour": [
           {
            "colorbar": {
             "outlinewidth": 0,
             "ticks": ""
            },
            "colorscale": [
             [
              0,
              "#0d0887"
             ],
             [
              0.1111111111111111,
              "#46039f"
             ],
             [
              0.2222222222222222,
              "#7201a8"
             ],
             [
              0.3333333333333333,
              "#9c179e"
             ],
             [
              0.4444444444444444,
              "#bd3786"
             ],
             [
              0.5555555555555556,
              "#d8576b"
             ],
             [
              0.6666666666666666,
              "#ed7953"
             ],
             [
              0.7777777777777778,
              "#fb9f3a"
             ],
             [
              0.8888888888888888,
              "#fdca26"
             ],
             [
              1,
              "#f0f921"
             ]
            ],
            "type": "histogram2dcontour"
           }
          ],
          "mesh3d": [
           {
            "colorbar": {
             "outlinewidth": 0,
             "ticks": ""
            },
            "type": "mesh3d"
           }
          ],
          "parcoords": [
           {
            "line": {
             "colorbar": {
              "outlinewidth": 0,
              "ticks": ""
             }
            },
            "type": "parcoords"
           }
          ],
          "pie": [
           {
            "automargin": true,
            "type": "pie"
           }
          ],
          "scatter": [
           {
            "fillpattern": {
             "fillmode": "overlay",
             "size": 10,
             "solidity": 0.2
            },
            "type": "scatter"
           }
          ],
          "scatter3d": [
           {
            "line": {
             "colorbar": {
              "outlinewidth": 0,
              "ticks": ""
             }
            },
            "marker": {
             "colorbar": {
              "outlinewidth": 0,
              "ticks": ""
             }
            },
            "type": "scatter3d"
           }
          ],
          "scattercarpet": [
           {
            "marker": {
             "colorbar": {
              "outlinewidth": 0,
              "ticks": ""
             }
            },
            "type": "scattercarpet"
           }
          ],
          "scattergeo": [
           {
            "marker": {
             "colorbar": {
              "outlinewidth": 0,
              "ticks": ""
             }
            },
            "type": "scattergeo"
           }
          ],
          "scattergl": [
           {
            "marker": {
             "colorbar": {
              "outlinewidth": 0,
              "ticks": ""
             }
            },
            "type": "scattergl"
           }
          ],
          "scattermapbox": [
           {
            "marker": {
             "colorbar": {
              "outlinewidth": 0,
              "ticks": ""
             }
            },
            "type": "scattermapbox"
           }
          ],
          "scatterpolar": [
           {
            "marker": {
             "colorbar": {
              "outlinewidth": 0,
              "ticks": ""
             }
            },
            "type": "scatterpolar"
           }
          ],
          "scatterpolargl": [
           {
            "marker": {
             "colorbar": {
              "outlinewidth": 0,
              "ticks": ""
             }
            },
            "type": "scatterpolargl"
           }
          ],
          "scatterternary": [
           {
            "marker": {
             "colorbar": {
              "outlinewidth": 0,
              "ticks": ""
             }
            },
            "type": "scatterternary"
           }
          ],
          "surface": [
           {
            "colorbar": {
             "outlinewidth": 0,
             "ticks": ""
            },
            "colorscale": [
             [
              0,
              "#0d0887"
             ],
             [
              0.1111111111111111,
              "#46039f"
             ],
             [
              0.2222222222222222,
              "#7201a8"
             ],
             [
              0.3333333333333333,
              "#9c179e"
             ],
             [
              0.4444444444444444,
              "#bd3786"
             ],
             [
              0.5555555555555556,
              "#d8576b"
             ],
             [
              0.6666666666666666,
              "#ed7953"
             ],
             [
              0.7777777777777778,
              "#fb9f3a"
             ],
             [
              0.8888888888888888,
              "#fdca26"
             ],
             [
              1,
              "#f0f921"
             ]
            ],
            "type": "surface"
           }
          ],
          "table": [
           {
            "cells": {
             "fill": {
              "color": "#EBF0F8"
             },
             "line": {
              "color": "white"
             }
            },
            "header": {
             "fill": {
              "color": "#C8D4E3"
             },
             "line": {
              "color": "white"
             }
            },
            "type": "table"
           }
          ]
         },
         "layout": {
          "annotationdefaults": {
           "arrowcolor": "#2a3f5f",
           "arrowhead": 0,
           "arrowwidth": 1
          },
          "autotypenumbers": "strict",
          "coloraxis": {
           "colorbar": {
            "outlinewidth": 0,
            "ticks": ""
           }
          },
          "colorscale": {
           "diverging": [
            [
             0,
             "#8e0152"
            ],
            [
             0.1,
             "#c51b7d"
            ],
            [
             0.2,
             "#de77ae"
            ],
            [
             0.3,
             "#f1b6da"
            ],
            [
             0.4,
             "#fde0ef"
            ],
            [
             0.5,
             "#f7f7f7"
            ],
            [
             0.6,
             "#e6f5d0"
            ],
            [
             0.7,
             "#b8e186"
            ],
            [
             0.8,
             "#7fbc41"
            ],
            [
             0.9,
             "#4d9221"
            ],
            [
             1,
             "#276419"
            ]
           ],
           "sequential": [
            [
             0,
             "#0d0887"
            ],
            [
             0.1111111111111111,
             "#46039f"
            ],
            [
             0.2222222222222222,
             "#7201a8"
            ],
            [
             0.3333333333333333,
             "#9c179e"
            ],
            [
             0.4444444444444444,
             "#bd3786"
            ],
            [
             0.5555555555555556,
             "#d8576b"
            ],
            [
             0.6666666666666666,
             "#ed7953"
            ],
            [
             0.7777777777777778,
             "#fb9f3a"
            ],
            [
             0.8888888888888888,
             "#fdca26"
            ],
            [
             1,
             "#f0f921"
            ]
           ],
           "sequentialminus": [
            [
             0,
             "#0d0887"
            ],
            [
             0.1111111111111111,
             "#46039f"
            ],
            [
             0.2222222222222222,
             "#7201a8"
            ],
            [
             0.3333333333333333,
             "#9c179e"
            ],
            [
             0.4444444444444444,
             "#bd3786"
            ],
            [
             0.5555555555555556,
             "#d8576b"
            ],
            [
             0.6666666666666666,
             "#ed7953"
            ],
            [
             0.7777777777777778,
             "#fb9f3a"
            ],
            [
             0.8888888888888888,
             "#fdca26"
            ],
            [
             1,
             "#f0f921"
            ]
           ]
          },
          "colorway": [
           "#636efa",
           "#EF553B",
           "#00cc96",
           "#ab63fa",
           "#FFA15A",
           "#19d3f3",
           "#FF6692",
           "#B6E880",
           "#FF97FF",
           "#FECB52"
          ],
          "font": {
           "color": "#2a3f5f"
          },
          "geo": {
           "bgcolor": "white",
           "lakecolor": "white",
           "landcolor": "#E5ECF6",
           "showlakes": true,
           "showland": true,
           "subunitcolor": "white"
          },
          "hoverlabel": {
           "align": "left"
          },
          "hovermode": "closest",
          "mapbox": {
           "style": "light"
          },
          "paper_bgcolor": "white",
          "plot_bgcolor": "#E5ECF6",
          "polar": {
           "angularaxis": {
            "gridcolor": "white",
            "linecolor": "white",
            "ticks": ""
           },
           "bgcolor": "#E5ECF6",
           "radialaxis": {
            "gridcolor": "white",
            "linecolor": "white",
            "ticks": ""
           }
          },
          "scene": {
           "xaxis": {
            "backgroundcolor": "#E5ECF6",
            "gridcolor": "white",
            "gridwidth": 2,
            "linecolor": "white",
            "showbackground": true,
            "ticks": "",
            "zerolinecolor": "white"
           },
           "yaxis": {
            "backgroundcolor": "#E5ECF6",
            "gridcolor": "white",
            "gridwidth": 2,
            "linecolor": "white",
            "showbackground": true,
            "ticks": "",
            "zerolinecolor": "white"
           },
           "zaxis": {
            "backgroundcolor": "#E5ECF6",
            "gridcolor": "white",
            "gridwidth": 2,
            "linecolor": "white",
            "showbackground": true,
            "ticks": "",
            "zerolinecolor": "white"
           }
          },
          "shapedefaults": {
           "line": {
            "color": "#2a3f5f"
           }
          },
          "ternary": {
           "aaxis": {
            "gridcolor": "white",
            "linecolor": "white",
            "ticks": ""
           },
           "baxis": {
            "gridcolor": "white",
            "linecolor": "white",
            "ticks": ""
           },
           "bgcolor": "#E5ECF6",
           "caxis": {
            "gridcolor": "white",
            "linecolor": "white",
            "ticks": ""
           }
          },
          "title": {
           "x": 0.05
          },
          "xaxis": {
           "automargin": true,
           "gridcolor": "white",
           "linecolor": "white",
           "ticks": "",
           "title": {
            "standoff": 15
           },
           "zerolinecolor": "white",
           "zerolinewidth": 2
          },
          "yaxis": {
           "automargin": true,
           "gridcolor": "white",
           "linecolor": "white",
           "ticks": "",
           "title": {
            "standoff": 15
           },
           "zerolinecolor": "white",
           "zerolinewidth": 2
          }
         }
        },
        "title": {
         "text": "Percentage among the different Severities of DR"
        },
        "xaxis": {
         "anchor": "y",
         "domain": [
          0,
          1
         ],
         "title": {
          "text": "Count"
         }
        },
        "yaxis": {
         "anchor": "x",
         "categoryarray": [
          "Proliferate_DR",
          "Severe",
          "Moderate",
          "Mild",
          "No_DR"
         ],
         "categoryorder": "total ascending",
         "domain": [
          0,
          1
         ],
         "title": {
          "text": "Severity"
         }
        }
       }
      },
      "text/html": [
       "<div>                            <div id=\"2ced138c-43c8-4354-9ce5-70953d186d6e\" class=\"plotly-graph-div\" style=\"height:525px; width:100%;\"></div>            <script type=\"text/javascript\">                require([\"plotly\"], function(Plotly) {                    window.PLOTLYENV=window.PLOTLYENV || {};                                    if (document.getElementById(\"2ced138c-43c8-4354-9ce5-70953d186d6e\")) {                    Plotly.newPlot(                        \"2ced138c-43c8-4354-9ce5-70953d186d6e\",                        [{\"alignmentgroup\":\"True\",\"hovertemplate\":\"Severity=%{y}<br>Count=%{x}<extra></extra>\",\"legendgroup\":\"No_DR\",\"marker\":{\"color\":\"#636efa\",\"pattern\":{\"shape\":\"\"}},\"name\":\"No_DR\",\"offsetgroup\":\"No_DR\",\"orientation\":\"h\",\"showlegend\":true,\"textposition\":\"auto\",\"x\":[400],\"xaxis\":\"x\",\"y\":[\"No_DR\"],\"yaxis\":\"y\",\"type\":\"bar\"},{\"alignmentgroup\":\"True\",\"hovertemplate\":\"Severity=%{y}<br>Count=%{x}<extra></extra>\",\"legendgroup\":\"Mild\",\"marker\":{\"color\":\"#EF553B\",\"pattern\":{\"shape\":\"\"}},\"name\":\"Mild\",\"offsetgroup\":\"Mild\",\"orientation\":\"h\",\"showlegend\":true,\"textposition\":\"auto\",\"x\":[400],\"xaxis\":\"x\",\"y\":[\"Mild\"],\"yaxis\":\"y\",\"type\":\"bar\"},{\"alignmentgroup\":\"True\",\"hovertemplate\":\"Severity=%{y}<br>Count=%{x}<extra></extra>\",\"legendgroup\":\"Moderate\",\"marker\":{\"color\":\"#00cc96\",\"pattern\":{\"shape\":\"\"}},\"name\":\"Moderate\",\"offsetgroup\":\"Moderate\",\"orientation\":\"h\",\"showlegend\":true,\"textposition\":\"auto\",\"x\":[400],\"xaxis\":\"x\",\"y\":[\"Moderate\"],\"yaxis\":\"y\",\"type\":\"bar\"},{\"alignmentgroup\":\"True\",\"hovertemplate\":\"Severity=%{y}<br>Count=%{x}<extra></extra>\",\"legendgroup\":\"Severe\",\"marker\":{\"color\":\"#ab63fa\",\"pattern\":{\"shape\":\"\"}},\"name\":\"Severe\",\"offsetgroup\":\"Severe\",\"orientation\":\"h\",\"showlegend\":true,\"textposition\":\"auto\",\"x\":[400],\"xaxis\":\"x\",\"y\":[\"Severe\"],\"yaxis\":\"y\",\"type\":\"bar\"},{\"alignmentgroup\":\"True\",\"hovertemplate\":\"Severity=%{y}<br>Count=%{x}<extra></extra>\",\"legendgroup\":\"Proliferate_DR\",\"marker\":{\"color\":\"#FFA15A\",\"pattern\":{\"shape\":\"\"}},\"name\":\"Proliferate_DR\",\"offsetgroup\":\"Proliferate_DR\",\"orientation\":\"h\",\"showlegend\":true,\"textposition\":\"auto\",\"x\":[400],\"xaxis\":\"x\",\"y\":[\"Proliferate_DR\"],\"yaxis\":\"y\",\"type\":\"bar\"}],                        {\"template\":{\"data\":{\"histogram2dcontour\":[{\"type\":\"histogram2dcontour\",\"colorbar\":{\"outlinewidth\":0,\"ticks\":\"\"},\"colorscale\":[[0.0,\"#0d0887\"],[0.1111111111111111,\"#46039f\"],[0.2222222222222222,\"#7201a8\"],[0.3333333333333333,\"#9c179e\"],[0.4444444444444444,\"#bd3786\"],[0.5555555555555556,\"#d8576b\"],[0.6666666666666666,\"#ed7953\"],[0.7777777777777778,\"#fb9f3a\"],[0.8888888888888888,\"#fdca26\"],[1.0,\"#f0f921\"]]}],\"choropleth\":[{\"type\":\"choropleth\",\"colorbar\":{\"outlinewidth\":0,\"ticks\":\"\"}}],\"histogram2d\":[{\"type\":\"histogram2d\",\"colorbar\":{\"outlinewidth\":0,\"ticks\":\"\"},\"colorscale\":[[0.0,\"#0d0887\"],[0.1111111111111111,\"#46039f\"],[0.2222222222222222,\"#7201a8\"],[0.3333333333333333,\"#9c179e\"],[0.4444444444444444,\"#bd3786\"],[0.5555555555555556,\"#d8576b\"],[0.6666666666666666,\"#ed7953\"],[0.7777777777777778,\"#fb9f3a\"],[0.8888888888888888,\"#fdca26\"],[1.0,\"#f0f921\"]]}],\"heatmap\":[{\"type\":\"heatmap\",\"colorbar\":{\"outlinewidth\":0,\"ticks\":\"\"},\"colorscale\":[[0.0,\"#0d0887\"],[0.1111111111111111,\"#46039f\"],[0.2222222222222222,\"#7201a8\"],[0.3333333333333333,\"#9c179e\"],[0.4444444444444444,\"#bd3786\"],[0.5555555555555556,\"#d8576b\"],[0.6666666666666666,\"#ed7953\"],[0.7777777777777778,\"#fb9f3a\"],[0.8888888888888888,\"#fdca26\"],[1.0,\"#f0f921\"]]}],\"heatmapgl\":[{\"type\":\"heatmapgl\",\"colorbar\":{\"outlinewidth\":0,\"ticks\":\"\"},\"colorscale\":[[0.0,\"#0d0887\"],[0.1111111111111111,\"#46039f\"],[0.2222222222222222,\"#7201a8\"],[0.3333333333333333,\"#9c179e\"],[0.4444444444444444,\"#bd3786\"],[0.5555555555555556,\"#d8576b\"],[0.6666666666666666,\"#ed7953\"],[0.7777777777777778,\"#fb9f3a\"],[0.8888888888888888,\"#fdca26\"],[1.0,\"#f0f921\"]]}],\"contourcarpet\":[{\"type\":\"contourcarpet\",\"colorbar\":{\"outlinewidth\":0,\"ticks\":\"\"}}],\"contour\":[{\"type\":\"contour\",\"colorbar\":{\"outlinewidth\":0,\"ticks\":\"\"},\"colorscale\":[[0.0,\"#0d0887\"],[0.1111111111111111,\"#46039f\"],[0.2222222222222222,\"#7201a8\"],[0.3333333333333333,\"#9c179e\"],[0.4444444444444444,\"#bd3786\"],[0.5555555555555556,\"#d8576b\"],[0.6666666666666666,\"#ed7953\"],[0.7777777777777778,\"#fb9f3a\"],[0.8888888888888888,\"#fdca26\"],[1.0,\"#f0f921\"]]}],\"surface\":[{\"type\":\"surface\",\"colorbar\":{\"outlinewidth\":0,\"ticks\":\"\"},\"colorscale\":[[0.0,\"#0d0887\"],[0.1111111111111111,\"#46039f\"],[0.2222222222222222,\"#7201a8\"],[0.3333333333333333,\"#9c179e\"],[0.4444444444444444,\"#bd3786\"],[0.5555555555555556,\"#d8576b\"],[0.6666666666666666,\"#ed7953\"],[0.7777777777777778,\"#fb9f3a\"],[0.8888888888888888,\"#fdca26\"],[1.0,\"#f0f921\"]]}],\"mesh3d\":[{\"type\":\"mesh3d\",\"colorbar\":{\"outlinewidth\":0,\"ticks\":\"\"}}],\"scatter\":[{\"fillpattern\":{\"fillmode\":\"overlay\",\"size\":10,\"solidity\":0.2},\"type\":\"scatter\"}],\"parcoords\":[{\"type\":\"parcoords\",\"line\":{\"colorbar\":{\"outlinewidth\":0,\"ticks\":\"\"}}}],\"scatterpolargl\":[{\"type\":\"scatterpolargl\",\"marker\":{\"colorbar\":{\"outlinewidth\":0,\"ticks\":\"\"}}}],\"bar\":[{\"error_x\":{\"color\":\"#2a3f5f\"},\"error_y\":{\"color\":\"#2a3f5f\"},\"marker\":{\"line\":{\"color\":\"#E5ECF6\",\"width\":0.5},\"pattern\":{\"fillmode\":\"overlay\",\"size\":10,\"solidity\":0.2}},\"type\":\"bar\"}],\"scattergeo\":[{\"type\":\"scattergeo\",\"marker\":{\"colorbar\":{\"outlinewidth\":0,\"ticks\":\"\"}}}],\"scatterpolar\":[{\"type\":\"scatterpolar\",\"marker\":{\"colorbar\":{\"outlinewidth\":0,\"ticks\":\"\"}}}],\"histogram\":[{\"marker\":{\"pattern\":{\"fillmode\":\"overlay\",\"size\":10,\"solidity\":0.2}},\"type\":\"histogram\"}],\"scattergl\":[{\"type\":\"scattergl\",\"marker\":{\"colorbar\":{\"outlinewidth\":0,\"ticks\":\"\"}}}],\"scatter3d\":[{\"type\":\"scatter3d\",\"line\":{\"colorbar\":{\"outlinewidth\":0,\"ticks\":\"\"}},\"marker\":{\"colorbar\":{\"outlinewidth\":0,\"ticks\":\"\"}}}],\"scattermapbox\":[{\"type\":\"scattermapbox\",\"marker\":{\"colorbar\":{\"outlinewidth\":0,\"ticks\":\"\"}}}],\"scatterternary\":[{\"type\":\"scatterternary\",\"marker\":{\"colorbar\":{\"outlinewidth\":0,\"ticks\":\"\"}}}],\"scattercarpet\":[{\"type\":\"scattercarpet\",\"marker\":{\"colorbar\":{\"outlinewidth\":0,\"ticks\":\"\"}}}],\"carpet\":[{\"aaxis\":{\"endlinecolor\":\"#2a3f5f\",\"gridcolor\":\"white\",\"linecolor\":\"white\",\"minorgridcolor\":\"white\",\"startlinecolor\":\"#2a3f5f\"},\"baxis\":{\"endlinecolor\":\"#2a3f5f\",\"gridcolor\":\"white\",\"linecolor\":\"white\",\"minorgridcolor\":\"white\",\"startlinecolor\":\"#2a3f5f\"},\"type\":\"carpet\"}],\"table\":[{\"cells\":{\"fill\":{\"color\":\"#EBF0F8\"},\"line\":{\"color\":\"white\"}},\"header\":{\"fill\":{\"color\":\"#C8D4E3\"},\"line\":{\"color\":\"white\"}},\"type\":\"table\"}],\"barpolar\":[{\"marker\":{\"line\":{\"color\":\"#E5ECF6\",\"width\":0.5},\"pattern\":{\"fillmode\":\"overlay\",\"size\":10,\"solidity\":0.2}},\"type\":\"barpolar\"}],\"pie\":[{\"automargin\":true,\"type\":\"pie\"}]},\"layout\":{\"autotypenumbers\":\"strict\",\"colorway\":[\"#636efa\",\"#EF553B\",\"#00cc96\",\"#ab63fa\",\"#FFA15A\",\"#19d3f3\",\"#FF6692\",\"#B6E880\",\"#FF97FF\",\"#FECB52\"],\"font\":{\"color\":\"#2a3f5f\"},\"hovermode\":\"closest\",\"hoverlabel\":{\"align\":\"left\"},\"paper_bgcolor\":\"white\",\"plot_bgcolor\":\"#E5ECF6\",\"polar\":{\"bgcolor\":\"#E5ECF6\",\"angularaxis\":{\"gridcolor\":\"white\",\"linecolor\":\"white\",\"ticks\":\"\"},\"radialaxis\":{\"gridcolor\":\"white\",\"linecolor\":\"white\",\"ticks\":\"\"}},\"ternary\":{\"bgcolor\":\"#E5ECF6\",\"aaxis\":{\"gridcolor\":\"white\",\"linecolor\":\"white\",\"ticks\":\"\"},\"baxis\":{\"gridcolor\":\"white\",\"linecolor\":\"white\",\"ticks\":\"\"},\"caxis\":{\"gridcolor\":\"white\",\"linecolor\":\"white\",\"ticks\":\"\"}},\"coloraxis\":{\"colorbar\":{\"outlinewidth\":0,\"ticks\":\"\"}},\"colorscale\":{\"sequential\":[[0.0,\"#0d0887\"],[0.1111111111111111,\"#46039f\"],[0.2222222222222222,\"#7201a8\"],[0.3333333333333333,\"#9c179e\"],[0.4444444444444444,\"#bd3786\"],[0.5555555555555556,\"#d8576b\"],[0.6666666666666666,\"#ed7953\"],[0.7777777777777778,\"#fb9f3a\"],[0.8888888888888888,\"#fdca26\"],[1.0,\"#f0f921\"]],\"sequentialminus\":[[0.0,\"#0d0887\"],[0.1111111111111111,\"#46039f\"],[0.2222222222222222,\"#7201a8\"],[0.3333333333333333,\"#9c179e\"],[0.4444444444444444,\"#bd3786\"],[0.5555555555555556,\"#d8576b\"],[0.6666666666666666,\"#ed7953\"],[0.7777777777777778,\"#fb9f3a\"],[0.8888888888888888,\"#fdca26\"],[1.0,\"#f0f921\"]],\"diverging\":[[0,\"#8e0152\"],[0.1,\"#c51b7d\"],[0.2,\"#de77ae\"],[0.3,\"#f1b6da\"],[0.4,\"#fde0ef\"],[0.5,\"#f7f7f7\"],[0.6,\"#e6f5d0\"],[0.7,\"#b8e186\"],[0.8,\"#7fbc41\"],[0.9,\"#4d9221\"],[1,\"#276419\"]]},\"xaxis\":{\"gridcolor\":\"white\",\"linecolor\":\"white\",\"ticks\":\"\",\"title\":{\"standoff\":15},\"zerolinecolor\":\"white\",\"automargin\":true,\"zerolinewidth\":2},\"yaxis\":{\"gridcolor\":\"white\",\"linecolor\":\"white\",\"ticks\":\"\",\"title\":{\"standoff\":15},\"zerolinecolor\":\"white\",\"automargin\":true,\"zerolinewidth\":2},\"scene\":{\"xaxis\":{\"backgroundcolor\":\"#E5ECF6\",\"gridcolor\":\"white\",\"linecolor\":\"white\",\"showbackground\":true,\"ticks\":\"\",\"zerolinecolor\":\"white\",\"gridwidth\":2},\"yaxis\":{\"backgroundcolor\":\"#E5ECF6\",\"gridcolor\":\"white\",\"linecolor\":\"white\",\"showbackground\":true,\"ticks\":\"\",\"zerolinecolor\":\"white\",\"gridwidth\":2},\"zaxis\":{\"backgroundcolor\":\"#E5ECF6\",\"gridcolor\":\"white\",\"linecolor\":\"white\",\"showbackground\":true,\"ticks\":\"\",\"zerolinecolor\":\"white\",\"gridwidth\":2}},\"shapedefaults\":{\"line\":{\"color\":\"#2a3f5f\"}},\"annotationdefaults\":{\"arrowcolor\":\"#2a3f5f\",\"arrowhead\":0,\"arrowwidth\":1},\"geo\":{\"bgcolor\":\"white\",\"landcolor\":\"#E5ECF6\",\"subunitcolor\":\"white\",\"showland\":true,\"showlakes\":true,\"lakecolor\":\"white\"},\"title\":{\"x\":0.05},\"mapbox\":{\"style\":\"light\"}}},\"xaxis\":{\"anchor\":\"y\",\"domain\":[0.0,1.0],\"title\":{\"text\":\"Count\"}},\"yaxis\":{\"anchor\":\"x\",\"domain\":[0.0,1.0],\"title\":{\"text\":\"Severity\"},\"categoryorder\":\"total ascending\",\"categoryarray\":[\"Proliferate_DR\",\"Severe\",\"Moderate\",\"Mild\",\"No_DR\"]},\"legend\":{\"title\":{\"text\":\"Severity\"},\"tracegroupgap\":0},\"title\":{\"text\":\"Percentage among the different Severities of DR\"},\"barmode\":\"relative\"},                        {\"responsive\": true}                    ).then(function(){\n",
       "                            \n",
       "var gd = document.getElementById('2ced138c-43c8-4354-9ce5-70953d186d6e');\n",
       "var x = new MutationObserver(function (mutations, observer) {{\n",
       "        var display = window.getComputedStyle(gd).display;\n",
       "        if (!display || display === 'none') {{\n",
       "            console.log([gd, 'removed!']);\n",
       "            Plotly.purge(gd);\n",
       "            observer.disconnect();\n",
       "        }}\n",
       "}});\n",
       "\n",
       "// Listen for the removal of the full notebook cells\n",
       "var notebookContainer = gd.closest('#notebook-container');\n",
       "if (notebookContainer) {{\n",
       "    x.observe(notebookContainer, {childList: true});\n",
       "}}\n",
       "\n",
       "// Listen for the clearing of the current output cell\n",
       "var outputEl = gd.closest('.output');\n",
       "if (outputEl) {{\n",
       "    x.observe(outputEl, {childList: true});\n",
       "}}\n",
       "\n",
       "                        })                };                });            </script>        </div>"
      ]
     },
     "metadata": {},
     "output_type": "display_data"
    }
   ],
   "source": [
    "import plotly.express as px\n",
    "\n",
    "Class_series = pd.Series(balanced_df['Label'])\n",
    "lis = [\"No_DR\", \"Mild\", \"Moderate\", \"Severe\", \"Proliferate_DR\"]\n",
    "\n",
    "DR_or_not = Class_series.value_counts().tolist()\n",
    "\n",
    "data = {'Severity': lis, 'Count': DR_or_not}\n",
    "df_plot = pd.DataFrame(data)\n",
    "\n",
    "fig = px.bar(df_plot, x='Count', y='Severity', orientation='h',\n",
    "             color='Severity',\n",
    "             title='Percentage among the different Severities of DR')\n",
    "fig.update_layout(yaxis={'categoryorder': 'total ascending'})  \n",
    "fig.show()"
   ]
  },
  {
   "cell_type": "code",
   "execution_count": 29,
   "id": "2ee4171d",
   "metadata": {},
   "outputs": [],
   "source": [
    "import os\n",
    "from glob import glob\n",
    "from PIL import Image\n",
    "import numpy as np\n",
    "import pandas as pd\n",
    "\n",
    "# Set the directory where your images are stored\n",
    "#directory = 'C:/Users/prana/Downloads/gaussian_filtered_images'  # Update this path as needed\n",
    "\n",
    "# Create a pattern to access all PNG files in the directory\n",
    "#pattern = os.path.join(directory, '**', '*.png')\n",
    "\n",
    "# Use glob to get all file paths matching the pattern\n",
    "#image_paths = glob(pattern)\n",
    "\n",
    "# Create a DataFrame named 'balanced_df' with image paths\n",
    "#balanced_df = pd.DataFrame(image_paths, columns=['Filepath'])\n",
    "\n",
    "# Define the target image size\n",
    "size = (224, 224)\n",
    "\n",
    "# Define the function to load and resize images\n",
    "def load_image_and_resize(filepath):\n",
    "    img = Image.open(filepath)\n",
    "    img = img.resize(size)  # Resize image to 224x224\n",
    "    img = np.asarray(img)  # Convert image to numpy array\n",
    "    return img\n",
    "\n",
    "# Map the function to the 'Filepath' column in 'balanced_df' to create the 'image' column\n",
    "balanced_df['image'] = balanced_df['Filepath'].map(lambda x: load_image_and_resize(x))\n",
    "\n"
   ]
  },
  {
   "cell_type": "code",
   "execution_count": 30,
   "id": "511cada9",
   "metadata": {},
   "outputs": [
    {
     "data": {
      "text/plain": [
       "(2000, 3)"
      ]
     },
     "execution_count": 30,
     "metadata": {},
     "output_type": "execute_result"
    }
   ],
   "source": [
    "balanced_df.shape"
   ]
  },
  {
   "cell_type": "code",
   "execution_count": 31,
   "id": "2d8963bd",
   "metadata": {},
   "outputs": [],
   "source": [
    "directory = 'C:/Users/prana/Downloads/gaussian_filtered_images'\n",
    "\n",
    "# Create a pattern to access all PNG files in the directory\n",
    "pattern = os.path.join(directory, '*', '*.png')\n",
    "\n",
    "# Use glob to get all file paths matching the pattern\n",
    "image_paths = glob(pattern)\n",
    "\n",
    "size = (224, 224)\n",
    "\n",
    "\n",
    "def load_image_and_resize(filepath):\n",
    "        img = Image.open(filepath)\n",
    "        img = img.resize(size)\n",
    "        img = np.asarray(img)\n",
    "        return img\n",
    "\n",
    "balanced_df['image'] = balanced_df['Filepath'].map(lambda x: load_image_and_resize(x))"
   ]
  },
  {
   "cell_type": "code",
   "execution_count": 33,
   "id": "288b151a",
   "metadata": {},
   "outputs": [
    {
     "data": {
      "text/plain": [
       "(2000, 3)"
      ]
     },
     "execution_count": 33,
     "metadata": {},
     "output_type": "execute_result"
    }
   ],
   "source": [
    "balanced_df.shape"
   ]
  },
  {
   "cell_type": "code",
   "execution_count": 34,
   "id": "24ad08eb",
   "metadata": {},
   "outputs": [],
   "source": [
    "from keras.utils import to_categorical\n",
    "x=np.asarray(balanced_df['image'].to_list())\n",
    "x=x/255\n",
    "y=balanced_df['Label']\n",
    "y=to_categorical(y,num_classes=5)\n",
    "x_train,x_test,y_train,y_test=train_test_split(x,y,test_size=.2,random_state=42,shuffle=True)"
   ]
  },
  {
   "cell_type": "code",
   "execution_count": 35,
   "id": "7780be7a",
   "metadata": {},
   "outputs": [
    {
     "data": {
      "text/plain": [
       "array([[[[0.48627451, 0.50196078, 0.50196078],\n",
       "         [0.50196078, 0.48627451, 0.48627451],\n",
       "         [0.50196078, 0.50196078, 0.50196078],\n",
       "         ...,\n",
       "         [0.50196078, 0.50196078, 0.50196078],\n",
       "         [0.50196078, 0.50196078, 0.50196078],\n",
       "         [0.50196078, 0.48627451, 0.48627451]],\n",
       "\n",
       "        [[0.50196078, 0.51764706, 0.51764706],\n",
       "         [0.51764706, 0.50196078, 0.50196078],\n",
       "         [0.50196078, 0.50196078, 0.50196078],\n",
       "         ...,\n",
       "         [0.50196078, 0.50196078, 0.50196078],\n",
       "         [0.51764706, 0.50196078, 0.50196078],\n",
       "         [0.52941176, 0.51372549, 0.51372549]],\n",
       "\n",
       "        [[0.49803922, 0.49019608, 0.49803922],\n",
       "         [0.50588235, 0.49019608, 0.49019608],\n",
       "         [0.50196078, 0.48627451, 0.48627451],\n",
       "         ...,\n",
       "         [0.50196078, 0.50196078, 0.50196078],\n",
       "         [0.50196078, 0.48627451, 0.50196078],\n",
       "         [0.49803922, 0.50980392, 0.50980392]],\n",
       "\n",
       "        ...,\n",
       "\n",
       "        [[0.50196078, 0.50196078, 0.50196078],\n",
       "         [0.50196078, 0.50196078, 0.50196078],\n",
       "         [0.49803922, 0.49803922, 0.50196078],\n",
       "         ...,\n",
       "         [0.50588235, 0.49803922, 0.50196078],\n",
       "         [0.50196078, 0.50196078, 0.50196078],\n",
       "         [0.50196078, 0.50196078, 0.50196078]],\n",
       "\n",
       "        [[0.50196078, 0.50196078, 0.50196078],\n",
       "         [0.50196078, 0.50196078, 0.50196078],\n",
       "         [0.50196078, 0.50196078, 0.50196078],\n",
       "         ...,\n",
       "         [0.50196078, 0.50196078, 0.50196078],\n",
       "         [0.50196078, 0.50196078, 0.50196078],\n",
       "         [0.51764706, 0.51764706, 0.51764706]],\n",
       "\n",
       "        [[0.50196078, 0.50196078, 0.50196078],\n",
       "         [0.50588235, 0.50588235, 0.50588235],\n",
       "         [0.50196078, 0.50196078, 0.50196078],\n",
       "         ...,\n",
       "         [0.51764706, 0.48627451, 0.50196078],\n",
       "         [0.50196078, 0.50196078, 0.50196078],\n",
       "         [0.51764706, 0.50196078, 0.51764706]]],\n",
       "\n",
       "\n",
       "       [[[0.50196078, 0.50196078, 0.50196078],\n",
       "         [0.50980392, 0.50980392, 0.50196078],\n",
       "         [0.50196078, 0.50196078, 0.50196078],\n",
       "         ...,\n",
       "         [0.50196078, 0.50196078, 0.50196078],\n",
       "         [0.50196078, 0.48627451, 0.50196078],\n",
       "         [0.50196078, 0.49019608, 0.50196078]],\n",
       "\n",
       "        [[0.50196078, 0.50196078, 0.50196078],\n",
       "         [0.50980392, 0.50980392, 0.50196078],\n",
       "         [0.50196078, 0.50196078, 0.50196078],\n",
       "         ...,\n",
       "         [0.50196078, 0.50196078, 0.50196078],\n",
       "         [0.50196078, 0.48627451, 0.50196078],\n",
       "         [0.50196078, 0.48627451, 0.50196078]],\n",
       "\n",
       "        [[0.50196078, 0.50196078, 0.50196078],\n",
       "         [0.50196078, 0.50196078, 0.50196078],\n",
       "         [0.50196078, 0.50196078, 0.50196078],\n",
       "         ...,\n",
       "         [0.50196078, 0.50196078, 0.50196078],\n",
       "         [0.50196078, 0.48627451, 0.50196078],\n",
       "         [0.49803922, 0.48627451, 0.49803922]],\n",
       "\n",
       "        ...,\n",
       "\n",
       "        [[0.50196078, 0.50196078, 0.50196078],\n",
       "         [0.50196078, 0.50196078, 0.50196078],\n",
       "         [0.50196078, 0.50196078, 0.50196078],\n",
       "         ...,\n",
       "         [0.50196078, 0.50196078, 0.50196078],\n",
       "         [0.50196078, 0.50196078, 0.50196078],\n",
       "         [0.50196078, 0.50196078, 0.50196078]],\n",
       "\n",
       "        [[0.50196078, 0.50196078, 0.50196078],\n",
       "         [0.50196078, 0.50196078, 0.50196078],\n",
       "         [0.48627451, 0.48627451, 0.48627451],\n",
       "         ...,\n",
       "         [0.50196078, 0.50196078, 0.50196078],\n",
       "         [0.50196078, 0.50196078, 0.50196078],\n",
       "         [0.50196078, 0.50196078, 0.50196078]],\n",
       "\n",
       "        [[0.50588235, 0.50588235, 0.50588235],\n",
       "         [0.49803922, 0.49803922, 0.49803922],\n",
       "         [0.48627451, 0.48627451, 0.48627451],\n",
       "         ...,\n",
       "         [0.50588235, 0.50588235, 0.50588235],\n",
       "         [0.50588235, 0.50588235, 0.50588235],\n",
       "         [0.50588235, 0.50588235, 0.50588235]]],\n",
       "\n",
       "\n",
       "       [[[0.50980392, 0.49803922, 0.49411765],\n",
       "         [0.51372549, 0.51372549, 0.51372549],\n",
       "         [0.52156863, 0.50588235, 0.50588235],\n",
       "         ...,\n",
       "         [0.48235294, 0.49019608, 0.49803922],\n",
       "         [0.49803922, 0.49803922, 0.51372549],\n",
       "         [0.49019608, 0.49019608, 0.50588235]],\n",
       "\n",
       "        [[0.49019608, 0.48627451, 0.48627451],\n",
       "         [0.48627451, 0.48627451, 0.48627451],\n",
       "         [0.50196078, 0.49019608, 0.49019608],\n",
       "         ...,\n",
       "         [0.48627451, 0.50196078, 0.50196078],\n",
       "         [0.49803922, 0.50980392, 0.51372549],\n",
       "         [0.49803922, 0.50196078, 0.49803922]],\n",
       "\n",
       "        [[0.48627451, 0.48627451, 0.48627451],\n",
       "         [0.48627451, 0.48627451, 0.48627451],\n",
       "         [0.50980392, 0.50196078, 0.50196078],\n",
       "         ...,\n",
       "         [0.54117647, 0.54117647, 0.54117647],\n",
       "         [0.49803922, 0.51372549, 0.51372549],\n",
       "         [0.48235294, 0.50196078, 0.49803922]],\n",
       "\n",
       "        ...,\n",
       "\n",
       "        [[0.51764706, 0.51372549, 0.50980392],\n",
       "         [0.50588235, 0.50588235, 0.49803922],\n",
       "         [0.48627451, 0.50196078, 0.50196078],\n",
       "         ...,\n",
       "         [0.48627451, 0.50196078, 0.50196078],\n",
       "         [0.53333333, 0.52156863, 0.52156863],\n",
       "         [0.50196078, 0.50196078, 0.50196078]],\n",
       "\n",
       "        [[0.48627451, 0.50196078, 0.50196078],\n",
       "         [0.47058824, 0.50196078, 0.48627451],\n",
       "         [0.51764706, 0.51764706, 0.51764706],\n",
       "         ...,\n",
       "         [0.49411765, 0.50196078, 0.49411765],\n",
       "         [0.50196078, 0.50196078, 0.50196078],\n",
       "         [0.50196078, 0.50196078, 0.50196078]],\n",
       "\n",
       "        [[0.49803922, 0.51372549, 0.51372549],\n",
       "         [0.51372549, 0.51372549, 0.51372549],\n",
       "         [0.48627451, 0.50196078, 0.50196078],\n",
       "         ...,\n",
       "         [0.52156863, 0.50588235, 0.50588235],\n",
       "         [0.48627451, 0.50196078, 0.48627451],\n",
       "         [0.49019608, 0.50196078, 0.49019608]]],\n",
       "\n",
       "\n",
       "       ...,\n",
       "\n",
       "\n",
       "       [[[0.50196078, 0.50196078, 0.50196078],\n",
       "         [0.50196078, 0.50196078, 0.50196078],\n",
       "         [0.50196078, 0.50196078, 0.50196078],\n",
       "         ...,\n",
       "         [0.50196078, 0.50196078, 0.50196078],\n",
       "         [0.50196078, 0.50196078, 0.50196078],\n",
       "         [0.50196078, 0.50196078, 0.50196078]],\n",
       "\n",
       "        [[0.50196078, 0.50196078, 0.50196078],\n",
       "         [0.50196078, 0.50196078, 0.50196078],\n",
       "         [0.50196078, 0.50196078, 0.50196078],\n",
       "         ...,\n",
       "         [0.50196078, 0.50196078, 0.50196078],\n",
       "         [0.50196078, 0.50196078, 0.50196078],\n",
       "         [0.50196078, 0.50196078, 0.50196078]],\n",
       "\n",
       "        [[0.50196078, 0.50196078, 0.50196078],\n",
       "         [0.50196078, 0.50196078, 0.50196078],\n",
       "         [0.50196078, 0.50196078, 0.50196078],\n",
       "         ...,\n",
       "         [0.50196078, 0.50196078, 0.50196078],\n",
       "         [0.50196078, 0.50196078, 0.50196078],\n",
       "         [0.50196078, 0.50196078, 0.50196078]],\n",
       "\n",
       "        ...,\n",
       "\n",
       "        [[0.50196078, 0.50196078, 0.50196078],\n",
       "         [0.50196078, 0.50196078, 0.50196078],\n",
       "         [0.50196078, 0.50196078, 0.50196078],\n",
       "         ...,\n",
       "         [0.50196078, 0.50196078, 0.50196078],\n",
       "         [0.50196078, 0.50196078, 0.50196078],\n",
       "         [0.50196078, 0.50196078, 0.50196078]],\n",
       "\n",
       "        [[0.50196078, 0.50196078, 0.50196078],\n",
       "         [0.50196078, 0.50196078, 0.50196078],\n",
       "         [0.50196078, 0.50196078, 0.50196078],\n",
       "         ...,\n",
       "         [0.50196078, 0.50196078, 0.50196078],\n",
       "         [0.50196078, 0.50196078, 0.50196078],\n",
       "         [0.50196078, 0.50196078, 0.50196078]],\n",
       "\n",
       "        [[0.50196078, 0.50196078, 0.50196078],\n",
       "         [0.50196078, 0.50196078, 0.50196078],\n",
       "         [0.50196078, 0.50196078, 0.50196078],\n",
       "         ...,\n",
       "         [0.50196078, 0.50196078, 0.50196078],\n",
       "         [0.50196078, 0.50196078, 0.50196078],\n",
       "         [0.50196078, 0.50196078, 0.50196078]]],\n",
       "\n",
       "\n",
       "       [[[0.50196078, 0.50196078, 0.50196078],\n",
       "         [0.50196078, 0.50196078, 0.50196078],\n",
       "         [0.49803922, 0.49803922, 0.49803922],\n",
       "         ...,\n",
       "         [0.48627451, 0.50196078, 0.48627451],\n",
       "         [0.53333333, 0.51764706, 0.51764706],\n",
       "         [0.50196078, 0.51764706, 0.50196078]],\n",
       "\n",
       "        [[0.49803922, 0.49803922, 0.49803922],\n",
       "         [0.51764706, 0.51764706, 0.51764706],\n",
       "         [0.50196078, 0.50196078, 0.50196078],\n",
       "         ...,\n",
       "         [0.48627451, 0.50196078, 0.50196078],\n",
       "         [0.51764706, 0.50196078, 0.50196078],\n",
       "         [0.48627451, 0.50196078, 0.48627451]],\n",
       "\n",
       "        [[0.51764706, 0.50196078, 0.50196078],\n",
       "         [0.50196078, 0.48627451, 0.48627451],\n",
       "         [0.49803922, 0.50980392, 0.49803922],\n",
       "         ...,\n",
       "         [0.4745098 , 0.49019608, 0.49019608],\n",
       "         [0.51764706, 0.50196078, 0.50196078],\n",
       "         [0.51764706, 0.50588235, 0.50196078]],\n",
       "\n",
       "        ...,\n",
       "\n",
       "        [[0.50196078, 0.50196078, 0.50196078],\n",
       "         [0.50196078, 0.50196078, 0.50196078],\n",
       "         [0.50196078, 0.50196078, 0.50196078],\n",
       "         ...,\n",
       "         [0.49019608, 0.49019608, 0.49019608],\n",
       "         [0.50196078, 0.50196078, 0.50196078],\n",
       "         [0.50196078, 0.50196078, 0.50196078]],\n",
       "\n",
       "        [[0.51764706, 0.51764706, 0.51764706],\n",
       "         [0.50196078, 0.50196078, 0.50196078],\n",
       "         [0.50196078, 0.50196078, 0.50196078],\n",
       "         ...,\n",
       "         [0.51764706, 0.51764706, 0.51764706],\n",
       "         [0.50196078, 0.50196078, 0.50196078],\n",
       "         [0.50196078, 0.50196078, 0.50196078]],\n",
       "\n",
       "        [[0.50196078, 0.50196078, 0.50196078],\n",
       "         [0.51764706, 0.48627451, 0.50196078],\n",
       "         [0.50196078, 0.50196078, 0.50196078],\n",
       "         ...,\n",
       "         [0.50196078, 0.50196078, 0.50196078],\n",
       "         [0.50196078, 0.50196078, 0.50196078],\n",
       "         [0.50196078, 0.50196078, 0.50196078]]],\n",
       "\n",
       "\n",
       "       [[[0.50196078, 0.50196078, 0.50196078],\n",
       "         [0.50196078, 0.50196078, 0.50196078],\n",
       "         [0.50196078, 0.50196078, 0.50196078],\n",
       "         ...,\n",
       "         [0.50196078, 0.50196078, 0.50196078],\n",
       "         [0.50196078, 0.50196078, 0.50196078],\n",
       "         [0.50196078, 0.50196078, 0.50196078]],\n",
       "\n",
       "        [[0.50196078, 0.50196078, 0.50196078],\n",
       "         [0.50196078, 0.50196078, 0.50196078],\n",
       "         [0.50196078, 0.50196078, 0.50196078],\n",
       "         ...,\n",
       "         [0.50196078, 0.50196078, 0.50196078],\n",
       "         [0.50196078, 0.50196078, 0.50196078],\n",
       "         [0.50196078, 0.50196078, 0.50196078]],\n",
       "\n",
       "        [[0.50196078, 0.50196078, 0.50196078],\n",
       "         [0.50196078, 0.50196078, 0.50196078],\n",
       "         [0.50196078, 0.50196078, 0.50196078],\n",
       "         ...,\n",
       "         [0.50196078, 0.50196078, 0.50196078],\n",
       "         [0.50196078, 0.50196078, 0.50196078],\n",
       "         [0.50196078, 0.50196078, 0.50196078]],\n",
       "\n",
       "        ...,\n",
       "\n",
       "        [[0.50196078, 0.50196078, 0.50196078],\n",
       "         [0.50196078, 0.50196078, 0.50196078],\n",
       "         [0.50196078, 0.50196078, 0.50196078],\n",
       "         ...,\n",
       "         [0.50196078, 0.50196078, 0.50196078],\n",
       "         [0.50196078, 0.50196078, 0.50196078],\n",
       "         [0.50196078, 0.50196078, 0.50196078]],\n",
       "\n",
       "        [[0.50196078, 0.50196078, 0.50196078],\n",
       "         [0.50196078, 0.50196078, 0.50196078],\n",
       "         [0.50196078, 0.50196078, 0.50196078],\n",
       "         ...,\n",
       "         [0.50196078, 0.50196078, 0.50196078],\n",
       "         [0.50196078, 0.50196078, 0.50196078],\n",
       "         [0.50196078, 0.50196078, 0.50196078]],\n",
       "\n",
       "        [[0.50196078, 0.50196078, 0.50196078],\n",
       "         [0.50196078, 0.50196078, 0.50196078],\n",
       "         [0.50196078, 0.50196078, 0.50196078],\n",
       "         ...,\n",
       "         [0.50196078, 0.50196078, 0.50196078],\n",
       "         [0.50196078, 0.50196078, 0.50196078],\n",
       "         [0.50196078, 0.50196078, 0.50196078]]]])"
      ]
     },
     "execution_count": 35,
     "metadata": {},
     "output_type": "execute_result"
    }
   ],
   "source": [
    "x"
   ]
  },
  {
   "cell_type": "code",
   "execution_count": 36,
   "id": "8a92e471",
   "metadata": {},
   "outputs": [
    {
     "name": "stdout",
     "output_type": "stream",
     "text": [
      "WARNING:tensorflow:From C:\\Users\\prana\\anaconda3\\lib\\site-packages\\keras\\src\\backend.py:1398: The name tf.executing_eagerly_outside_functions is deprecated. Please use tf.compat.v1.executing_eagerly_outside_functions instead.\n",
      "\n",
      "WARNING:tensorflow:From C:\\Users\\prana\\anaconda3\\lib\\site-packages\\keras\\src\\layers\\normalization\\batch_normalization.py:979: The name tf.nn.fused_batch_norm is deprecated. Please use tf.compat.v1.nn.fused_batch_norm instead.\n",
      "\n",
      "Epoch 1/70\n",
      "WARNING:tensorflow:From C:\\Users\\prana\\anaconda3\\lib\\site-packages\\keras\\src\\utils\\tf_utils.py:492: The name tf.ragged.RaggedTensorValue is deprecated. Please use tf.compat.v1.ragged.RaggedTensorValue instead.\n",
      "\n",
      "WARNING:tensorflow:From C:\\Users\\prana\\anaconda3\\lib\\site-packages\\keras\\src\\engine\\base_layer_utils.py:384: The name tf.executing_eagerly_outside_functions is deprecated. Please use tf.compat.v1.executing_eagerly_outside_functions instead.\n",
      "\n",
      "200/200 [==============================] - 91s 420ms/step - loss: 1.4884 - accuracy: 0.4712 - val_loss: 1.0648 - val_accuracy: 0.5775\n",
      "Epoch 2/70\n",
      "200/200 [==============================] - 79s 393ms/step - loss: 1.0429 - accuracy: 0.5544 - val_loss: 0.9869 - val_accuracy: 0.6000\n",
      "Epoch 3/70\n",
      "200/200 [==============================] - 79s 396ms/step - loss: 0.9414 - accuracy: 0.6019 - val_loss: 0.9087 - val_accuracy: 0.6525\n",
      "Epoch 4/70\n",
      "200/200 [==============================] - 78s 390ms/step - loss: 0.8387 - accuracy: 0.6612 - val_loss: 0.9113 - val_accuracy: 0.6225\n",
      "Epoch 5/70\n",
      "200/200 [==============================] - 79s 394ms/step - loss: 0.7921 - accuracy: 0.6875 - val_loss: 0.8597 - val_accuracy: 0.6475\n",
      "Epoch 6/70\n",
      "200/200 [==============================] - 303s 2s/step - loss: 0.6708 - accuracy: 0.7294 - val_loss: 0.7520 - val_accuracy: 0.7225\n",
      "Epoch 7/70\n",
      "200/200 [==============================] - 78s 388ms/step - loss: 0.6471 - accuracy: 0.7538 - val_loss: 0.7666 - val_accuracy: 0.7300\n",
      "Epoch 8/70\n",
      "200/200 [==============================] - 78s 390ms/step - loss: 0.5846 - accuracy: 0.7706 - val_loss: 0.7258 - val_accuracy: 0.7825\n",
      "Epoch 9/70\n",
      "200/200 [==============================] - 79s 394ms/step - loss: 0.5443 - accuracy: 0.7856 - val_loss: 0.7890 - val_accuracy: 0.7200\n",
      "Epoch 10/70\n",
      "200/200 [==============================] - 78s 392ms/step - loss: 0.5044 - accuracy: 0.8075 - val_loss: 0.7119 - val_accuracy: 0.7675\n",
      "Epoch 11/70\n",
      "200/200 [==============================] - 79s 393ms/step - loss: 0.4631 - accuracy: 0.8213 - val_loss: 0.6943 - val_accuracy: 0.7600\n",
      "Epoch 12/70\n",
      "200/200 [==============================] - 122s 612ms/step - loss: 0.4341 - accuracy: 0.8369 - val_loss: 0.6661 - val_accuracy: 0.7850\n",
      "Epoch 13/70\n",
      "200/200 [==============================] - 78s 392ms/step - loss: 0.3925 - accuracy: 0.8406 - val_loss: 0.6925 - val_accuracy: 0.7425\n",
      "Epoch 14/70\n",
      "200/200 [==============================] - 102s 512ms/step - loss: 0.3802 - accuracy: 0.8494 - val_loss: 0.6623 - val_accuracy: 0.7950\n",
      "Epoch 15/70\n",
      "200/200 [==============================] - 101s 504ms/step - loss: 0.3394 - accuracy: 0.8806 - val_loss: 0.6521 - val_accuracy: 0.8000\n",
      "Epoch 16/70\n",
      "200/200 [==============================] - 339s 2s/step - loss: 0.3449 - accuracy: 0.8737 - val_loss: 0.6599 - val_accuracy: 0.8075\n",
      "Epoch 17/70\n",
      "200/200 [==============================] - 76s 381ms/step - loss: 0.3278 - accuracy: 0.8694 - val_loss: 0.6589 - val_accuracy: 0.7825\n",
      "Epoch 18/70\n",
      "200/200 [==============================] - 76s 380ms/step - loss: 0.2893 - accuracy: 0.8913 - val_loss: 0.6692 - val_accuracy: 0.7650\n",
      "Epoch 19/70\n",
      "200/200 [==============================] - 83s 416ms/step - loss: 0.2772 - accuracy: 0.9000 - val_loss: 0.6290 - val_accuracy: 0.8000\n",
      "Epoch 20/70\n",
      "200/200 [==============================] - 84s 422ms/step - loss: 0.2925 - accuracy: 0.8956 - val_loss: 0.5965 - val_accuracy: 0.8275\n",
      "Epoch 21/70\n",
      "200/200 [==============================] - 82s 409ms/step - loss: 0.2351 - accuracy: 0.9106 - val_loss: 0.7273 - val_accuracy: 0.7900\n",
      "Epoch 22/70\n",
      "200/200 [==============================] - 84s 420ms/step - loss: 0.2362 - accuracy: 0.9131 - val_loss: 0.6205 - val_accuracy: 0.8150\n",
      "Epoch 23/70\n",
      "200/200 [==============================] - 81s 406ms/step - loss: 0.2485 - accuracy: 0.9019 - val_loss: 0.7006 - val_accuracy: 0.8225\n",
      "Epoch 24/70\n",
      "200/200 [==============================] - 482s 2s/step - loss: 0.2417 - accuracy: 0.9131 - val_loss: 0.6601 - val_accuracy: 0.8025\n",
      "Epoch 25/70\n",
      "200/200 [==============================] - 81s 408ms/step - loss: 0.2253 - accuracy: 0.9112 - val_loss: 0.6489 - val_accuracy: 0.8250\n",
      "Epoch 26/70\n",
      "200/200 [==============================] - 77s 387ms/step - loss: 0.2196 - accuracy: 0.9125 - val_loss: 0.6293 - val_accuracy: 0.8225\n",
      "Epoch 27/70\n",
      "200/200 [==============================] - 77s 384ms/step - loss: 0.2003 - accuracy: 0.9244 - val_loss: 0.6733 - val_accuracy: 0.8025\n",
      "Epoch 28/70\n",
      "200/200 [==============================] - 77s 387ms/step - loss: 0.1967 - accuracy: 0.9294 - val_loss: 0.6424 - val_accuracy: 0.8300\n",
      "Epoch 29/70\n",
      "200/200 [==============================] - 78s 388ms/step - loss: 0.1959 - accuracy: 0.9269 - val_loss: 0.6642 - val_accuracy: 0.8300\n",
      "Epoch 30/70\n",
      "200/200 [==============================] - 78s 389ms/step - loss: 0.1764 - accuracy: 0.9388 - val_loss: 0.6680 - val_accuracy: 0.8200\n",
      "Epoch 30: early stopping\n"
     ]
    }
   ],
   "source": [
    "from tensorflow.keras.models import Model\n",
    "from tensorflow.keras.applications.densenet import DenseNet121\n",
    "from keras.callbacks import EarlyStopping\n",
    "\n",
    "\n",
    "es = EarlyStopping(monitor='val_accuracy', min_delta = 0.005, patience=10, verbose=1, mode='auto')\n",
    "vgg = DenseNet121(input_shape=(224,224,3),weights='imagenet',include_top=False)\n",
    "vgg.trainable = False\n",
    "x = Flatten()(vgg.output)\n",
    "x = layers.Dense(256,activation='relu')(x)\n",
    "x = layers.Dropout(0.4)(x)\n",
    "\n",
    "prediction = Dense(5,activation='softmax')(x)\n",
    "model = Model(inputs=vgg.input, outputs=prediction)\n",
    "model.compile(Adam(learning_rate=0.0001), loss='categorical_crossentropy', metrics=['accuracy'])\n",
    "history = model.fit(x_train ,\n",
    "                    y_train ,\n",
    "                    epochs=70 ,\n",
    "                    batch_size=8,\n",
    "                    validation_data=(x_test , y_test) ,\n",
    "                    callbacks=es\n",
    "                    )"
   ]
  },
  {
   "cell_type": "code",
   "execution_count": 37,
   "id": "61ac7d25",
   "metadata": {},
   "outputs": [
    {
     "name": "stdout",
     "output_type": "stream",
     "text": [
      "13/13 [==============================] - 14s 927ms/step - loss: 0.6680 - accuracy: 0.8200\n",
      "Test Loss: 0.6679523587226868\n",
      "Test Accuracy: 0.8199999928474426\n"
     ]
    }
   ],
   "source": [
    "loss, accuracy = model.evaluate(x_test, y_test)\n",
    "\n",
    "# Print the loss and accuracy\n",
    "print(\"Test Loss:\", loss)\n",
    "print(\"Test Accuracy:\", accuracy)"
   ]
  },
  {
   "cell_type": "code",
   "execution_count": 42,
   "id": "1ee3aad2",
   "metadata": {},
   "outputs": [
    {
     "data": {
      "image/png": "[encoded data removed]",
      "text/plain": [
       "<Figure size 640x480 with 1 Axes>"
      ]
     },
     "metadata": {},
     "output_type": "display_data"
    }
   ],
   "source": [
    "import matplotlib.pyplot as plt\n",
    "\n",
    "\n",
    "tr_acc = history.history['accuracy']\n",
    "val_acc = history.history['val_accuracy']\n",
    "\n",
    "epochs = [i+1 for i in range(len(tr_acc))]\n",
    "\n",
    "\n",
    "\n",
    "plt.plot(epochs, tr_acc, label='Train Accuracy')\n",
    "plt.plot(epochs, val_acc, label='Valid Accuracy')\n",
    "plt.title('Accuracy for DenseNet')\n",
    "plt.legend()\n",
    "plt.xlabel('Epochs')\n",
    "plt.ylabel('Accuracy')\n",
    "\n",
    "plt.tight_layout()\n",
    "plt.show()\n"
   ]
  },
  {
   "cell_type": "code",
   "execution_count": 39,
   "id": "300a2919",
   "metadata": {},
   "outputs": [
    {
     "name": "stdout",
     "output_type": "stream",
     "text": [
      "Downloading data from https://storage.googleapis.com/tensorflow/keras-applications/vgg16/vgg16_weights_tf_dim_ordering_tf_kernels_notop.h5\n",
      "58889256/58889256 [==============================] - 1s 0us/step\n",
      "Epoch 1/70\n",
      "200/200 [==============================] - 108s 538ms/step - loss: 1.3929 - accuracy: 0.4069 - val_loss: 1.2556 - val_accuracy: 0.3825\n",
      "Epoch 2/70\n",
      "200/200 [==============================] - 106s 532ms/step - loss: 1.2265 - accuracy: 0.4681 - val_loss: 1.1974 - val_accuracy: 0.4875\n",
      "Epoch 3/70\n",
      "200/200 [==============================] - 106s 532ms/step - loss: 1.1611 - accuracy: 0.4925 - val_loss: 1.1840 - val_accuracy: 0.4700\n",
      "Epoch 4/70\n",
      "200/200 [==============================] - 106s 532ms/step - loss: 1.1278 - accuracy: 0.5225 - val_loss: 1.1441 - val_accuracy: 0.4900\n",
      "Epoch 5/70\n",
      "200/200 [==============================] - 105s 527ms/step - loss: 1.0878 - accuracy: 0.5537 - val_loss: 1.0966 - val_accuracy: 0.5225\n",
      "Epoch 6/70\n",
      "200/200 [==============================] - 105s 527ms/step - loss: 1.0499 - accuracy: 0.5638 - val_loss: 1.1228 - val_accuracy: 0.5025\n",
      "Epoch 7/70\n",
      "200/200 [==============================] - 107s 535ms/step - loss: 1.0127 - accuracy: 0.5788 - val_loss: 1.0663 - val_accuracy: 0.5550\n",
      "Epoch 8/70\n",
      "200/200 [==============================] - 108s 540ms/step - loss: 0.9919 - accuracy: 0.5925 - val_loss: 1.0049 - val_accuracy: 0.5675\n",
      "Epoch 9/70\n",
      "200/200 [==============================] - 107s 537ms/step - loss: 0.9466 - accuracy: 0.6212 - val_loss: 1.0583 - val_accuracy: 0.5275\n",
      "Epoch 10/70\n",
      "200/200 [==============================] - 108s 540ms/step - loss: 0.9368 - accuracy: 0.6094 - val_loss: 0.9909 - val_accuracy: 0.5625\n",
      "Epoch 11/70\n",
      "200/200 [==============================] - 5193s 26s/step - loss: 0.9086 - accuracy: 0.6300 - val_loss: 0.9624 - val_accuracy: 0.5625\n",
      "Epoch 12/70\n",
      "200/200 [==============================] - 106s 531ms/step - loss: 0.8920 - accuracy: 0.6288 - val_loss: 0.9410 - val_accuracy: 0.5950\n",
      "Epoch 13/70\n",
      "200/200 [==============================] - 106s 529ms/step - loss: 0.8660 - accuracy: 0.6475 - val_loss: 0.9422 - val_accuracy: 0.6025\n",
      "Epoch 14/70\n",
      "200/200 [==============================] - 106s 531ms/step - loss: 0.8521 - accuracy: 0.6656 - val_loss: 0.9274 - val_accuracy: 0.5950\n",
      "Epoch 15/70\n",
      "200/200 [==============================] - 105s 526ms/step - loss: 0.8177 - accuracy: 0.6856 - val_loss: 0.9381 - val_accuracy: 0.6000\n",
      "Epoch 16/70\n",
      "200/200 [==============================] - 111s 553ms/step - loss: 0.8218 - accuracy: 0.6681 - val_loss: 0.8994 - val_accuracy: 0.6225\n",
      "Epoch 17/70\n",
      "200/200 [==============================] - 6189s 31s/step - loss: 0.7823 - accuracy: 0.6919 - val_loss: 0.8965 - val_accuracy: 0.6425\n",
      "Epoch 18/70\n",
      "200/200 [==============================] - 107s 536ms/step - loss: 0.7697 - accuracy: 0.7056 - val_loss: 0.8902 - val_accuracy: 0.6200\n",
      "Epoch 19/70\n",
      "200/200 [==============================] - 112s 562ms/step - loss: 0.7536 - accuracy: 0.7013 - val_loss: 0.8758 - val_accuracy: 0.6775\n",
      "Epoch 20/70\n",
      "200/200 [==============================] - 109s 545ms/step - loss: 0.7529 - accuracy: 0.6988 - val_loss: 1.0058 - val_accuracy: 0.5700\n",
      "Epoch 21/70\n",
      "200/200 [==============================] - 106s 529ms/step - loss: 0.7246 - accuracy: 0.7200 - val_loss: 0.9064 - val_accuracy: 0.5975\n",
      "Epoch 22/70\n",
      "200/200 [==============================] - 108s 540ms/step - loss: 0.7102 - accuracy: 0.7113 - val_loss: 0.8603 - val_accuracy: 0.6425\n",
      "Epoch 23/70\n",
      "200/200 [==============================] - 108s 541ms/step - loss: 0.7066 - accuracy: 0.7175 - val_loss: 0.8416 - val_accuracy: 0.6775\n",
      "Epoch 24/70\n",
      "200/200 [==============================] - 108s 540ms/step - loss: 0.6952 - accuracy: 0.7300 - val_loss: 0.8525 - val_accuracy: 0.6650\n",
      "Epoch 25/70\n",
      "200/200 [==============================] - 108s 542ms/step - loss: 0.6865 - accuracy: 0.7337 - val_loss: 0.8277 - val_accuracy: 0.6625\n",
      "Epoch 26/70\n",
      "200/200 [==============================] - 108s 543ms/step - loss: 0.6563 - accuracy: 0.7575 - val_loss: 0.8373 - val_accuracy: 0.6750\n",
      "Epoch 27/70\n",
      "200/200 [==============================] - 110s 550ms/step - loss: 0.6435 - accuracy: 0.7594 - val_loss: 0.8258 - val_accuracy: 0.6900\n",
      "Epoch 28/70\n",
      "200/200 [==============================] - 108s 538ms/step - loss: 0.6195 - accuracy: 0.7756 - val_loss: 0.8032 - val_accuracy: 0.6650\n",
      "Epoch 29/70\n",
      "200/200 [==============================] - 108s 540ms/step - loss: 0.6409 - accuracy: 0.7569 - val_loss: 0.8060 - val_accuracy: 0.6950\n",
      "Epoch 30/70\n",
      "200/200 [==============================] - 2701s 14s/step - loss: 0.6125 - accuracy: 0.7756 - val_loss: 0.7766 - val_accuracy: 0.6925\n",
      "Epoch 31/70\n",
      "200/200 [==============================] - 121s 607ms/step - loss: 0.5914 - accuracy: 0.7700 - val_loss: 0.7696 - val_accuracy: 0.7025\n",
      "Epoch 32/70\n",
      "200/200 [==============================] - 146s 731ms/step - loss: 0.5870 - accuracy: 0.7819 - val_loss: 0.7880 - val_accuracy: 0.7000\n",
      "Epoch 33/70\n",
      "200/200 [==============================] - 139s 697ms/step - loss: 0.5833 - accuracy: 0.7906 - val_loss: 0.7653 - val_accuracy: 0.7275\n",
      "Epoch 34/70\n",
      "200/200 [==============================] - 131s 656ms/step - loss: 0.5692 - accuracy: 0.7906 - val_loss: 0.7837 - val_accuracy: 0.6925\n",
      "Epoch 35/70\n",
      "200/200 [==============================] - 140s 702ms/step - loss: 0.5383 - accuracy: 0.8037 - val_loss: 0.7603 - val_accuracy: 0.7075\n",
      "Epoch 36/70\n",
      "200/200 [==============================] - 153s 766ms/step - loss: 0.5492 - accuracy: 0.7975 - val_loss: 0.7673 - val_accuracy: 0.7050\n",
      "Epoch 37/70\n",
      "200/200 [==============================] - 142s 711ms/step - loss: 0.5329 - accuracy: 0.8031 - val_loss: 0.8495 - val_accuracy: 0.6775\n",
      "Epoch 38/70\n",
      "200/200 [==============================] - 137s 688ms/step - loss: 0.5405 - accuracy: 0.7919 - val_loss: 0.7271 - val_accuracy: 0.7300\n",
      "Epoch 39/70\n",
      "200/200 [==============================] - 137s 686ms/step - loss: 0.5208 - accuracy: 0.8087 - val_loss: 0.7414 - val_accuracy: 0.7275\n",
      "Epoch 40/70\n",
      "200/200 [==============================] - 142s 710ms/step - loss: 0.5021 - accuracy: 0.8175 - val_loss: 0.7849 - val_accuracy: 0.7125\n",
      "Epoch 41/70\n",
      "200/200 [==============================] - 148s 739ms/step - loss: 0.4896 - accuracy: 0.8225 - val_loss: 0.7972 - val_accuracy: 0.6875\n",
      "Epoch 42/70\n",
      "200/200 [==============================] - 144s 720ms/step - loss: 0.4952 - accuracy: 0.8100 - val_loss: 0.7262 - val_accuracy: 0.7375\n",
      "Epoch 43/70\n",
      "200/200 [==============================] - 140s 699ms/step - loss: 0.4851 - accuracy: 0.8244 - val_loss: 0.7272 - val_accuracy: 0.7375\n",
      "Epoch 44/70\n",
      "200/200 [==============================] - 139s 698ms/step - loss: 0.4573 - accuracy: 0.8406 - val_loss: 0.7297 - val_accuracy: 0.7200\n",
      "Epoch 45/70\n",
      "200/200 [==============================] - 139s 697ms/step - loss: 0.4552 - accuracy: 0.8381 - val_loss: 0.7249 - val_accuracy: 0.7350\n",
      "Epoch 46/70\n",
      "200/200 [==============================] - 141s 703ms/step - loss: 0.4512 - accuracy: 0.8338 - val_loss: 0.7109 - val_accuracy: 0.7325\n",
      "Epoch 47/70\n",
      "200/200 [==============================] - 142s 711ms/step - loss: 0.4531 - accuracy: 0.8325 - val_loss: 0.7387 - val_accuracy: 0.7375\n",
      "Epoch 48/70\n",
      "200/200 [==============================] - 139s 696ms/step - loss: 0.4623 - accuracy: 0.8338 - val_loss: 0.7490 - val_accuracy: 0.7425\n",
      "Epoch 49/70\n",
      "200/200 [==============================] - 136s 683ms/step - loss: 0.4319 - accuracy: 0.8425 - val_loss: 0.7097 - val_accuracy: 0.7600\n",
      "Epoch 50/70\n",
      "200/200 [==============================] - 138s 692ms/step - loss: 0.4519 - accuracy: 0.8381 - val_loss: 0.7263 - val_accuracy: 0.7525\n",
      "Epoch 51/70\n",
      "200/200 [==============================] - 136s 683ms/step - loss: 0.4199 - accuracy: 0.8481 - val_loss: 0.7269 - val_accuracy: 0.7500\n",
      "Epoch 52/70\n",
      "200/200 [==============================] - 139s 698ms/step - loss: 0.4111 - accuracy: 0.8594 - val_loss: 0.6995 - val_accuracy: 0.7475\n",
      "Epoch 53/70\n",
      "200/200 [==============================] - 141s 704ms/step - loss: 0.3961 - accuracy: 0.8619 - val_loss: 0.7520 - val_accuracy: 0.7375\n",
      "Epoch 54/70\n",
      "200/200 [==============================] - 110s 550ms/step - loss: 0.3953 - accuracy: 0.8625 - val_loss: 0.7085 - val_accuracy: 0.7675\n",
      "Epoch 55/70\n",
      "200/200 [==============================] - 112s 560ms/step - loss: 0.4012 - accuracy: 0.8606 - val_loss: 0.6806 - val_accuracy: 0.7800\n",
      "Epoch 56/70\n",
      "200/200 [==============================] - 116s 579ms/step - loss: 0.3825 - accuracy: 0.8694 - val_loss: 0.7019 - val_accuracy: 0.7725\n",
      "Epoch 57/70\n",
      "200/200 [==============================] - 116s 580ms/step - loss: 0.3609 - accuracy: 0.8756 - val_loss: 0.7289 - val_accuracy: 0.7450\n",
      "Epoch 58/70\n",
      "200/200 [==============================] - 114s 572ms/step - loss: 0.3642 - accuracy: 0.8788 - val_loss: 0.6893 - val_accuracy: 0.7750\n",
      "Epoch 59/70\n",
      "200/200 [==============================] - 1231s 6s/step - loss: 0.3584 - accuracy: 0.8650 - val_loss: 0.7297 - val_accuracy: 0.7400\n",
      "Epoch 60/70\n",
      "200/200 [==============================] - 110s 549ms/step - loss: 0.3443 - accuracy: 0.8794 - val_loss: 0.7023 - val_accuracy: 0.7825\n",
      "Epoch 61/70\n",
      "200/200 [==============================] - 105s 524ms/step - loss: 0.3473 - accuracy: 0.8781 - val_loss: 0.6852 - val_accuracy: 0.7600\n",
      "Epoch 62/70\n",
      "200/200 [==============================] - 104s 520ms/step - loss: 0.3487 - accuracy: 0.8813 - val_loss: 0.6829 - val_accuracy: 0.8025\n",
      "Epoch 63/70\n",
      "200/200 [==============================] - 105s 528ms/step - loss: 0.3275 - accuracy: 0.8881 - val_loss: 0.7096 - val_accuracy: 0.7800\n",
      "Epoch 64/70\n",
      "200/200 [==============================] - 110s 553ms/step - loss: 0.3266 - accuracy: 0.8819 - val_loss: 0.6894 - val_accuracy: 0.7750\n",
      "Epoch 65/70\n",
      "200/200 [==============================] - 106s 532ms/step - loss: 0.3160 - accuracy: 0.8888 - val_loss: 0.6887 - val_accuracy: 0.7825\n",
      "Epoch 66/70\n",
      "200/200 [==============================] - 111s 555ms/step - loss: 0.3236 - accuracy: 0.8869 - val_loss: 0.7410 - val_accuracy: 0.7400\n",
      "Epoch 67/70\n",
      "200/200 [==============================] - 110s 551ms/step - loss: 0.3212 - accuracy: 0.8919 - val_loss: 0.6921 - val_accuracy: 0.7900\n",
      "Epoch 68/70\n",
      "200/200 [==============================] - 113s 568ms/step - loss: 0.3042 - accuracy: 0.8963 - val_loss: 0.6830 - val_accuracy: 0.7975\n",
      "Epoch 69/70\n",
      "200/200 [==============================] - 105s 527ms/step - loss: 0.3141 - accuracy: 0.8950 - val_loss: 0.6809 - val_accuracy: 0.7875\n",
      "Epoch 70/70\n",
      "200/200 [==============================] - 117s 585ms/step - loss: 0.2821 - accuracy: 0.9025 - val_loss: 0.7819 - val_accuracy: 0.7575\n"
     ]
    }
   ],
   "source": [
    "from tensorflow.keras.models import Model\n",
    "from tensorflow.keras.applications.vgg16 import VGG16\n",
    "from tensorflow.keras.layers import Flatten, Dense, Dropout\n",
    "from tensorflow.keras.optimizers import Adam\n",
    "from tensorflow.keras.callbacks import EarlyStopping\n",
    "\n",
    "es = EarlyStopping(monitor='val_accuracy', min_delta=0.005, patience=10, verbose=1, mode='auto')\n",
    "vgg = VGG16(input_shape=(224, 224, 3), weights='imagenet', include_top=False)\n",
    "vgg.trainable = False\n",
    "\n",
    "x = Flatten()(vgg.output)\n",
    "x = Dense(256, activation='relu')(x)\n",
    "x = Dropout(0.4)(x)\n",
    "\n",
    "prediction = Dense(5, activation='softmax')(x)\n",
    "model = Model(inputs=vgg.input, outputs=prediction)\n",
    "\n",
    "model.compile(Adam(learning_rate=0.0001), loss='categorical_crossentropy', metrics=['accuracy'])\n",
    "\n",
    "history = model.fit(x_train,\n",
    "                    y_train,\n",
    "                    epochs=70,\n",
    "                    batch_size=8,\n",
    "                    validation_data=(x_test, y_test),\n",
    "                    callbacks=[es])\n"
   ]
  },
  {
   "cell_type": "code",
   "execution_count": 40,
   "id": "8325395a",
   "metadata": {},
   "outputs": [
    {
     "name": "stdout",
     "output_type": "stream",
     "text": [
      "13/13 [==============================] - 19s 1s/step - loss: 0.7819 - accuracy: 0.7575\n",
      "Test Loss: 0.781867265701294\n",
      "Test Accuracy: 0.7574999928474426\n"
     ]
    }
   ],
   "source": [
    "loss, accuracy = model.evaluate(x_test, y_test)\n",
    "\n",
    "# Print the loss and accuracy\n",
    "print(\"Test Loss:\", loss)\n",
    "print(\"Test Accuracy:\", accuracy)\n"
   ]
  },
  {
   "cell_type": "code",
   "execution_count": 43,
   "id": "b74b5135",
   "metadata": {},
   "outputs": [
    {
     "data": {
      "image/png": "[encoded data removed]",
      "text/plain": [
       "<Figure size 640x480 with 1 Axes>"
      ]
     },
     "metadata": {},
     "output_type": "display_data"
    }
   ],
   "source": [
    "import matplotlib.pyplot as plt\n",
    "\n",
    "\n",
    "tr_acc = history.history['accuracy']\n",
    "val_acc = history.history['val_accuracy']\n",
    "\n",
    "epochs = [i+1 for i in range(len(tr_acc))]\n",
    "\n",
    "\n",
    "\n",
    "plt.plot(epochs, tr_acc, label='Train Accuracy')\n",
    "plt.plot(epochs, val_acc, label='Valid Accuracy')\n",
    "plt.title('Accuracy for VGG16')\n",
    "plt.legend()\n",
    "plt.xlabel('Epochs')\n",
    "plt.ylabel('Accuracy')\n",
    "\n",
    "plt.tight_layout()\n",
    "plt.show()\n"
   ]
  },
  {
   "cell_type": "code",
   "execution_count": null,
   "id": "bda016cb",
   "metadata": {},
   "outputs": [],
   "source": [
    "import numpy as np\n",
    "import pandas as pd\n",
    "import matplotlib.pyplot as plt\n",
    "import matplotlib.image as mpimg\n",
    "import tensorflow as tf\n",
    "import cv2\n",
    "import seaborn as sns\n",
    "from PIL import Image, ImageOps, ImageDraw\n",
    "import os\n",
    "# data augmentation\n",
    "import imageio\n",
    "import imgaug as ia\n",
    "import imgaug.augmenters as iaa\n",
    "import matplotlib.patches as patches\n",
    "%matplotlib inline\n",
    "# ml and deep learning libraries\n",
    "from sklearn.model_selection import train_test_split\n",
    "from sklearn.utils import class_weight\n",
    "\n",
    "import numpy as np\n",
    "import pandas as pd\n",
    "import tensorflow as tf\n",
    "from sklearn.model_selection import train_test_split\n",
    "from tensorflow.keras.preprocessing.image import ImageDataGenerator\n",
    "from tensorflow.keras.applications import ResNet50\n",
    "from tensorflow.keras.models import Model\n",
    "from tensorflow.keras.layers import Dense, GlobalAveragePooling2D\n",
    "from tensorflow.keras.optimizers import Adam"
   ]
  },
  {
   "cell_type": "code",
   "execution_count": null,
   "id": "d7dc8570",
   "metadata": {},
   "outputs": [],
   "source": [
    "# Load dataset\n",
    "data = pd.read_csv('C:/Users/sreej/Desktop/project/train.csv')\n",
    "\n",
    "image_folder = 'C:/Users/sreej/Desktop/project/images/'\n",
    "\n",
    "def image_path(id_code):\n",
    "    return image_folder + id_code + '.png'\n",
    "\n",
    "data['image_path'] = data['id_code'].apply(image_path)"
   ]
  },
  {
   "cell_type": "code",
   "execution_count": null,
   "id": "7accb11f",
   "metadata": {},
   "outputs": [],
   "source": [
    "import pandas as pd\n",
    "from sklearn.model_selection import train_test_split\n",
    "\n",
    "# Split sets\n",
    "train_df, test_df = train_test_split(data, test_size=0.2, random_state=42)\n",
    "\n",
    "y_train = train_df['diagnosis']\n",
    "x_train = train_df.drop('diagnosis', axis=1)\n",
    "\n",
    "y_test = test_df['diagnosis']\n",
    "x_test = test_df.drop('diagnosis', axis=1)"
   ]
  },
  {
   "cell_type": "code",
   "execution_count": null,
   "id": "150c28f5",
   "metadata": {},
   "outputs": [],
   "source": [
    "import tensorflow as tf\n",
    "import pandas as pd\n",
    "from sklearn.model_selection import train_test_split\n",
    "import matplotlib.pyplot as plt\n",
    "from sklearn.utils.class_weight import compute_class_weight\n",
    "import numpy as np\n",
    "\n",
    "from tensorflow.keras.layers import Input, Conv2D, MaxPooling2D, Flatten, Dense\n",
    "from tensorflow.keras.models import Sequential\n",
    "from tensorflow.keras.regularizers import L2\n",
    "\n",
    "train_df, test_df = train_test_split(data, test_size=0.2, random_state=42)\n",
    "\n",
    "batch_size = 32\n",
    "\n",
    "\n",
    "def preprocess_image(image_path, label):\n",
    "    image = tf.io.read_file(image_path)\n",
    "    image = tf.image.decode_png(image, channels=1)  \n",
    "    image = tf.image.resize(image, [224, 224])\n",
    "    # Normalize to [0, 1] range\n",
    "    image /= 255.0  \n",
    "   \n",
    "    return image, label\n",
    "\n",
    "def load_dataset(df, is_training=True):\n",
    "    images = df['image_path'].values\n",
    "    labels = pd.get_dummies(df['diagnosis']).values\n",
    "    dataset = tf.data.Dataset.from_tensor_slices((images, labels))\n",
    "    if is_training:\n",
    "        dataset = dataset.map(preprocess_image).shuffle(buffer_size=1000).repeat()\n",
    "    else:\n",
    "        dataset = dataset.map(preprocess_image)\n",
    "    return dataset.batch(32)\n",
    "\n",
    "train_dataset = load_dataset(train_df)\n",
    "test_dataset = load_dataset(test_df, is_training=False)\n",
    "\n",
    "total_test_points = len(test_dataset)\n",
    "\n",
    "# baseline CNN model\n",
    "model = Sequential([\n",
    "    Input(shape=(224, 224, 1)),  \n",
    "    Conv2D(32, (3, 3), activation='relu'),\n",
    "    MaxPooling2D(2, 2),\n",
    "    Conv2D(64, (3, 3), activation='relu'),\n",
    "    MaxPooling2D(2, 2),\n",
    "    Conv2D(128, (3, 3), activation='relu'),\n",
    "    MaxPooling2D(2, 2),\n",
    "    Flatten(),\n",
    "    Dense(128, activation='relu'),\n",
    "    Dense(len(train_df['diagnosis'].unique()), activation='softmax')\n",
    "])\n",
    "\n",
    "model.compile(optimizer='adam', loss='categorical_crossentropy', metrics=['accuracy'])\n",
    "\n",
    "# Calculate class weights\n",
    "classes = np.unique(train_df['diagnosis'])\n",
    "class_weights = compute_class_weight('balanced', classes=classes, y=train_df['diagnosis'].values)\n",
    "class_weights_dict = dict(enumerate(class_weights))\n",
    "\n",
    "# fit the model\n",
    "history = model.fit(\n",
    "    train_dataset,\n",
    "    steps_per_epoch=90, \n",
    "    epochs=15,\n",
    "    validation_data=test_dataset,\n",
    "    validation_steps = total_test_points // batch_size, \n",
    "    class_weight = class_weights_dict\n",
    ")\n",
    "\n",
    "import numpy as np\n",
    "from sklearn.metrics import confusion_matrix\n",
    "import matplotlib.pyplot as plt\n",
    "import seaborn as sns\n",
    "from tensorflow.keras.models import Sequential\n",
    "\n",
    "test_images, test_labels = next(iter(test_dataset.unbatch().batch(len(test_df))))\n",
    "predictions = model.predict(test_images)\n",
    "predicted_classes = np.argmax(predictions, axis=1)\n",
    "true_classes = np.argmax(test_labels, axis=1)\n",
    "cm = confusion_matrix(true_classes, predicted_classes)\n",
    "\n",
    "def plot_confusion_matrix(cm, classes, title='Confusion matrix', cmap=plt.cm.Blues, normalize=False):\n",
    "    plt.figure(figsize=(8, 6))\n",
    "    if normalize:\n",
    "        cm = cm.astype('float') / cm.sum(axis=1)[:, np.newaxis]  # Normalize by rows for recall\n",
    "    sns.heatmap(cm, annot=True, fmt='.2f' if normalize else 'd', cmap=cmap, xticklabels=classes, yticklabels=classes)\n",
    "    plt.title(title)\n",
    "    plt.ylabel('True label')\n",
    "    plt.xlabel('Predicted label')\n",
    "    plt.show()\n",
    "    \n",
    "class_names = ['Class 1', 'Class 2', 'Class 3', 'Class 4', 'Class 5']  # Replace with your actual class names\n",
    "\n",
    "# Confusion Matrix\n",
    "plot_confusion_matrix(cm, class_names, title='Confusion Matrix')\n",
    "\n",
    "# Precision Plot\n",
    "cm_normalized_by_columns = cm.astype('float') / cm.sum(axis=0)\n",
    "plot_confusion_matrix(cm_normalized_by_columns, class_names, title='Precision', normalize=True)\n",
    "\n",
    "# Recall Plot\n",
    "plot_confusion_matrix(cm, class_names, title='Recall', normalize=True)\n",
    "\n",
    "from sklearn.metrics import precision_score, recall_score, f1_score, classification_report\n",
    "\n",
    "precision = precision_score(true_classes, predicted_classes, average=None)\n",
    "recall = recall_score(true_classes, predicted_classes, average=None)\n",
    "f1_scores = f1_score(true_classes, predicted_classes, average=None)\n",
    "\n",
    "# classification report\n",
    "print(\"Classification Report:\")\n",
    "report = classification_report(true_classes, predicted_classes, target_names=class_names)\n",
    "print(report)\n",
    "\n",
    "def plot_metric_scores(scores, classes, metric_name, cmap=plt.cm.Blues):\n",
    "    plt.figure(figsize=(8, 6))\n",
    "    sns.heatmap(np.diag(scores).reshape(-1, len(classes)), annot=True, fmt='.2f', cmap=cmap, \n",
    "                cbar=False, xticklabels=classes, yticklabels=[metric_name])\n",
    "    plt.title(f'{metric_name} for each class')\n",
    "    plt.xlabel('Class')\n",
    "    plt.yticks(rotation=0)  # Keep the metric name horizontal for readability\n",
    "    plt.show()\n",
    "\n",
    "# F1 Scores Plot\n",
    "plot_metric_scores(f1_scores, class_names, 'F1 Score')\n",
    "\n"
   ]
  },
  {
   "cell_type": "code",
   "execution_count": null,
   "id": "0b0c86d6",
   "metadata": {},
   "outputs": [],
   "source": []
  }
 ],
 "metadata": {
  "kernelspec": {
   "display_name": "Python 3 (ipykernel)",
   "language": "python",
   "name": "python3"
  },
  "language_info": {
   "codemirror_mode": {
    "name": "ipython",
    "version": 3
   },
   "file_extension": ".py",
   "mimetype": "text/x-python",
   "name": "python",
   "nbconvert_exporter": "python",
   "pygments_lexer": "ipython3",
   "version": "3.10.9"
  }
 },
 "nbformat": 4,
 "nbformat_minor": 5
}
